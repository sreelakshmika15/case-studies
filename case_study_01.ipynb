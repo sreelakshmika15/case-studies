{
  "nbformat": 4,
  "nbformat_minor": 0,
  "metadata": {
    "colab": {
      "provenance": []
    },
    "kernelspec": {
      "name": "python3",
      "display_name": "Python 3"
    },
    "language_info": {
      "name": "python"
    }
  },
  "cells": [
    {
      "cell_type": "code",
      "execution_count": null,
      "metadata": {
        "id": "ZAHDBMZgRWfp"
      },
      "outputs": [],
      "source": [
        "import numpy as np\n",
        "import pandas as pd\n",
        "import matplotlib.pyplot as plt"
      ]
    },
    {
      "cell_type": "code",
      "source": [
        "from google.colab import files\n",
        "uploaded = files.upload()"
      ],
      "metadata": {
        "colab": {
          "base_uri": "https://localhost:8080/",
          "height": 73
        },
        "id": "QykzTZjNRiPk",
        "outputId": "dd220d6c-5453-4c4b-d3c0-60efdeb7b8a3"
      },
      "execution_count": null,
      "outputs": [
        {
          "output_type": "display_data",
          "data": {
            "text/plain": [
              "<IPython.core.display.HTML object>"
            ],
            "text/html": [
              "\n",
              "     <input type=\"file\" id=\"files-3cb45d3e-5428-47a5-ae00-f2346e604ff1\" name=\"files[]\" multiple disabled\n",
              "        style=\"border:none\" />\n",
              "     <output id=\"result-3cb45d3e-5428-47a5-ae00-f2346e604ff1\">\n",
              "      Upload widget is only available when the cell has been executed in the\n",
              "      current browser session. Please rerun this cell to enable.\n",
              "      </output>\n",
              "      <script>// Copyright 2017 Google LLC\n",
              "//\n",
              "// Licensed under the Apache License, Version 2.0 (the \"License\");\n",
              "// you may not use this file except in compliance with the License.\n",
              "// You may obtain a copy of the License at\n",
              "//\n",
              "//      http://www.apache.org/licenses/LICENSE-2.0\n",
              "//\n",
              "// Unless required by applicable law or agreed to in writing, software\n",
              "// distributed under the License is distributed on an \"AS IS\" BASIS,\n",
              "// WITHOUT WARRANTIES OR CONDITIONS OF ANY KIND, either express or implied.\n",
              "// See the License for the specific language governing permissions and\n",
              "// limitations under the License.\n",
              "\n",
              "/**\n",
              " * @fileoverview Helpers for google.colab Python module.\n",
              " */\n",
              "(function(scope) {\n",
              "function span(text, styleAttributes = {}) {\n",
              "  const element = document.createElement('span');\n",
              "  element.textContent = text;\n",
              "  for (const key of Object.keys(styleAttributes)) {\n",
              "    element.style[key] = styleAttributes[key];\n",
              "  }\n",
              "  return element;\n",
              "}\n",
              "\n",
              "// Max number of bytes which will be uploaded at a time.\n",
              "const MAX_PAYLOAD_SIZE = 100 * 1024;\n",
              "\n",
              "function _uploadFiles(inputId, outputId) {\n",
              "  const steps = uploadFilesStep(inputId, outputId);\n",
              "  const outputElement = document.getElementById(outputId);\n",
              "  // Cache steps on the outputElement to make it available for the next call\n",
              "  // to uploadFilesContinue from Python.\n",
              "  outputElement.steps = steps;\n",
              "\n",
              "  return _uploadFilesContinue(outputId);\n",
              "}\n",
              "\n",
              "// This is roughly an async generator (not supported in the browser yet),\n",
              "// where there are multiple asynchronous steps and the Python side is going\n",
              "// to poll for completion of each step.\n",
              "// This uses a Promise to block the python side on completion of each step,\n",
              "// then passes the result of the previous step as the input to the next step.\n",
              "function _uploadFilesContinue(outputId) {\n",
              "  const outputElement = document.getElementById(outputId);\n",
              "  const steps = outputElement.steps;\n",
              "\n",
              "  const next = steps.next(outputElement.lastPromiseValue);\n",
              "  return Promise.resolve(next.value.promise).then((value) => {\n",
              "    // Cache the last promise value to make it available to the next\n",
              "    // step of the generator.\n",
              "    outputElement.lastPromiseValue = value;\n",
              "    return next.value.response;\n",
              "  });\n",
              "}\n",
              "\n",
              "/**\n",
              " * Generator function which is called between each async step of the upload\n",
              " * process.\n",
              " * @param {string} inputId Element ID of the input file picker element.\n",
              " * @param {string} outputId Element ID of the output display.\n",
              " * @return {!Iterable<!Object>} Iterable of next steps.\n",
              " */\n",
              "function* uploadFilesStep(inputId, outputId) {\n",
              "  const inputElement = document.getElementById(inputId);\n",
              "  inputElement.disabled = false;\n",
              "\n",
              "  const outputElement = document.getElementById(outputId);\n",
              "  outputElement.innerHTML = '';\n",
              "\n",
              "  const pickedPromise = new Promise((resolve) => {\n",
              "    inputElement.addEventListener('change', (e) => {\n",
              "      resolve(e.target.files);\n",
              "    });\n",
              "  });\n",
              "\n",
              "  const cancel = document.createElement('button');\n",
              "  inputElement.parentElement.appendChild(cancel);\n",
              "  cancel.textContent = 'Cancel upload';\n",
              "  const cancelPromise = new Promise((resolve) => {\n",
              "    cancel.onclick = () => {\n",
              "      resolve(null);\n",
              "    };\n",
              "  });\n",
              "\n",
              "  // Wait for the user to pick the files.\n",
              "  const files = yield {\n",
              "    promise: Promise.race([pickedPromise, cancelPromise]),\n",
              "    response: {\n",
              "      action: 'starting',\n",
              "    }\n",
              "  };\n",
              "\n",
              "  cancel.remove();\n",
              "\n",
              "  // Disable the input element since further picks are not allowed.\n",
              "  inputElement.disabled = true;\n",
              "\n",
              "  if (!files) {\n",
              "    return {\n",
              "      response: {\n",
              "        action: 'complete',\n",
              "      }\n",
              "    };\n",
              "  }\n",
              "\n",
              "  for (const file of files) {\n",
              "    const li = document.createElement('li');\n",
              "    li.append(span(file.name, {fontWeight: 'bold'}));\n",
              "    li.append(span(\n",
              "        `(${file.type || 'n/a'}) - ${file.size} bytes, ` +\n",
              "        `last modified: ${\n",
              "            file.lastModifiedDate ? file.lastModifiedDate.toLocaleDateString() :\n",
              "                                    'n/a'} - `));\n",
              "    const percent = span('0% done');\n",
              "    li.appendChild(percent);\n",
              "\n",
              "    outputElement.appendChild(li);\n",
              "\n",
              "    const fileDataPromise = new Promise((resolve) => {\n",
              "      const reader = new FileReader();\n",
              "      reader.onload = (e) => {\n",
              "        resolve(e.target.result);\n",
              "      };\n",
              "      reader.readAsArrayBuffer(file);\n",
              "    });\n",
              "    // Wait for the data to be ready.\n",
              "    let fileData = yield {\n",
              "      promise: fileDataPromise,\n",
              "      response: {\n",
              "        action: 'continue',\n",
              "      }\n",
              "    };\n",
              "\n",
              "    // Use a chunked sending to avoid message size limits. See b/62115660.\n",
              "    let position = 0;\n",
              "    do {\n",
              "      const length = Math.min(fileData.byteLength - position, MAX_PAYLOAD_SIZE);\n",
              "      const chunk = new Uint8Array(fileData, position, length);\n",
              "      position += length;\n",
              "\n",
              "      const base64 = btoa(String.fromCharCode.apply(null, chunk));\n",
              "      yield {\n",
              "        response: {\n",
              "          action: 'append',\n",
              "          file: file.name,\n",
              "          data: base64,\n",
              "        },\n",
              "      };\n",
              "\n",
              "      let percentDone = fileData.byteLength === 0 ?\n",
              "          100 :\n",
              "          Math.round((position / fileData.byteLength) * 100);\n",
              "      percent.textContent = `${percentDone}% done`;\n",
              "\n",
              "    } while (position < fileData.byteLength);\n",
              "  }\n",
              "\n",
              "  // All done.\n",
              "  yield {\n",
              "    response: {\n",
              "      action: 'complete',\n",
              "    }\n",
              "  };\n",
              "}\n",
              "\n",
              "scope.google = scope.google || {};\n",
              "scope.google.colab = scope.google.colab || {};\n",
              "scope.google.colab._files = {\n",
              "  _uploadFiles,\n",
              "  _uploadFilesContinue,\n",
              "};\n",
              "})(self);\n",
              "</script> "
            ]
          },
          "metadata": {}
        },
        {
          "output_type": "stream",
          "name": "stdout",
          "text": [
            "Saving train_loan.csv to train_loan.csv\n"
          ]
        }
      ]
    },
    {
      "cell_type": "code",
      "source": [
        "data = pd.read_csv('/content/train_loan.csv')"
      ],
      "metadata": {
        "id": "beXJJLErRpOH"
      },
      "execution_count": null,
      "outputs": []
    },
    {
      "cell_type": "code",
      "source": [
        "data.head()"
      ],
      "metadata": {
        "colab": {
          "base_uri": "https://localhost:8080/",
          "height": 243
        },
        "id": "6YZTOvA2RzRk",
        "outputId": "2a96f94a-88e8-4418-9902-cf4c0e5b85f6"
      },
      "execution_count": null,
      "outputs": [
        {
          "output_type": "execute_result",
          "data": {
            "text/plain": [
              "    Loan_ID Gender Married Dependents     Education Self_Employed  \\\n",
              "0  LP001002   Male      No          0      Graduate            No   \n",
              "1  LP001003   Male     Yes          1      Graduate            No   \n",
              "2  LP001005   Male     Yes          0      Graduate           Yes   \n",
              "3  LP001006   Male     Yes          0  Not Graduate            No   \n",
              "4  LP001008   Male      No          0      Graduate            No   \n",
              "\n",
              "   ApplicantIncome  CoapplicantIncome  LoanAmount  Loan_Amount_Term  \\\n",
              "0             5849                0.0         NaN             360.0   \n",
              "1             4583             1508.0       128.0             360.0   \n",
              "2             3000                0.0        66.0             360.0   \n",
              "3             2583             2358.0       120.0             360.0   \n",
              "4             6000                0.0       141.0             360.0   \n",
              "\n",
              "   Credit_History Property_Area Loan_Status  \n",
              "0             1.0         Urban           Y  \n",
              "1             1.0         Rural           N  \n",
              "2             1.0         Urban           Y  \n",
              "3             1.0         Urban           Y  \n",
              "4             1.0         Urban           Y  "
            ],
            "text/html": [
              "\n",
              "  <div id=\"df-a5283a47-90e4-40ee-a6a5-1ea2101b9abf\" class=\"colab-df-container\">\n",
              "    <div>\n",
              "<style scoped>\n",
              "    .dataframe tbody tr th:only-of-type {\n",
              "        vertical-align: middle;\n",
              "    }\n",
              "\n",
              "    .dataframe tbody tr th {\n",
              "        vertical-align: top;\n",
              "    }\n",
              "\n",
              "    .dataframe thead th {\n",
              "        text-align: right;\n",
              "    }\n",
              "</style>\n",
              "<table border=\"1\" class=\"dataframe\">\n",
              "  <thead>\n",
              "    <tr style=\"text-align: right;\">\n",
              "      <th></th>\n",
              "      <th>Loan_ID</th>\n",
              "      <th>Gender</th>\n",
              "      <th>Married</th>\n",
              "      <th>Dependents</th>\n",
              "      <th>Education</th>\n",
              "      <th>Self_Employed</th>\n",
              "      <th>ApplicantIncome</th>\n",
              "      <th>CoapplicantIncome</th>\n",
              "      <th>LoanAmount</th>\n",
              "      <th>Loan_Amount_Term</th>\n",
              "      <th>Credit_History</th>\n",
              "      <th>Property_Area</th>\n",
              "      <th>Loan_Status</th>\n",
              "    </tr>\n",
              "  </thead>\n",
              "  <tbody>\n",
              "    <tr>\n",
              "      <th>0</th>\n",
              "      <td>LP001002</td>\n",
              "      <td>Male</td>\n",
              "      <td>No</td>\n",
              "      <td>0</td>\n",
              "      <td>Graduate</td>\n",
              "      <td>No</td>\n",
              "      <td>5849</td>\n",
              "      <td>0.0</td>\n",
              "      <td>NaN</td>\n",
              "      <td>360.0</td>\n",
              "      <td>1.0</td>\n",
              "      <td>Urban</td>\n",
              "      <td>Y</td>\n",
              "    </tr>\n",
              "    <tr>\n",
              "      <th>1</th>\n",
              "      <td>LP001003</td>\n",
              "      <td>Male</td>\n",
              "      <td>Yes</td>\n",
              "      <td>1</td>\n",
              "      <td>Graduate</td>\n",
              "      <td>No</td>\n",
              "      <td>4583</td>\n",
              "      <td>1508.0</td>\n",
              "      <td>128.0</td>\n",
              "      <td>360.0</td>\n",
              "      <td>1.0</td>\n",
              "      <td>Rural</td>\n",
              "      <td>N</td>\n",
              "    </tr>\n",
              "    <tr>\n",
              "      <th>2</th>\n",
              "      <td>LP001005</td>\n",
              "      <td>Male</td>\n",
              "      <td>Yes</td>\n",
              "      <td>0</td>\n",
              "      <td>Graduate</td>\n",
              "      <td>Yes</td>\n",
              "      <td>3000</td>\n",
              "      <td>0.0</td>\n",
              "      <td>66.0</td>\n",
              "      <td>360.0</td>\n",
              "      <td>1.0</td>\n",
              "      <td>Urban</td>\n",
              "      <td>Y</td>\n",
              "    </tr>\n",
              "    <tr>\n",
              "      <th>3</th>\n",
              "      <td>LP001006</td>\n",
              "      <td>Male</td>\n",
              "      <td>Yes</td>\n",
              "      <td>0</td>\n",
              "      <td>Not Graduate</td>\n",
              "      <td>No</td>\n",
              "      <td>2583</td>\n",
              "      <td>2358.0</td>\n",
              "      <td>120.0</td>\n",
              "      <td>360.0</td>\n",
              "      <td>1.0</td>\n",
              "      <td>Urban</td>\n",
              "      <td>Y</td>\n",
              "    </tr>\n",
              "    <tr>\n",
              "      <th>4</th>\n",
              "      <td>LP001008</td>\n",
              "      <td>Male</td>\n",
              "      <td>No</td>\n",
              "      <td>0</td>\n",
              "      <td>Graduate</td>\n",
              "      <td>No</td>\n",
              "      <td>6000</td>\n",
              "      <td>0.0</td>\n",
              "      <td>141.0</td>\n",
              "      <td>360.0</td>\n",
              "      <td>1.0</td>\n",
              "      <td>Urban</td>\n",
              "      <td>Y</td>\n",
              "    </tr>\n",
              "  </tbody>\n",
              "</table>\n",
              "</div>\n",
              "    <div class=\"colab-df-buttons\">\n",
              "\n",
              "  <div class=\"colab-df-container\">\n",
              "    <button class=\"colab-df-convert\" onclick=\"convertToInteractive('df-a5283a47-90e4-40ee-a6a5-1ea2101b9abf')\"\n",
              "            title=\"Convert this dataframe to an interactive table.\"\n",
              "            style=\"display:none;\">\n",
              "\n",
              "  <svg xmlns=\"http://www.w3.org/2000/svg\" height=\"24px\" viewBox=\"0 -960 960 960\">\n",
              "    <path d=\"M120-120v-720h720v720H120Zm60-500h600v-160H180v160Zm220 220h160v-160H400v160Zm0 220h160v-160H400v160ZM180-400h160v-160H180v160Zm440 0h160v-160H620v160ZM180-180h160v-160H180v160Zm440 0h160v-160H620v160Z\"/>\n",
              "  </svg>\n",
              "    </button>\n",
              "\n",
              "  <style>\n",
              "    .colab-df-container {\n",
              "      display:flex;\n",
              "      gap: 12px;\n",
              "    }\n",
              "\n",
              "    .colab-df-convert {\n",
              "      background-color: #E8F0FE;\n",
              "      border: none;\n",
              "      border-radius: 50%;\n",
              "      cursor: pointer;\n",
              "      display: none;\n",
              "      fill: #1967D2;\n",
              "      height: 32px;\n",
              "      padding: 0 0 0 0;\n",
              "      width: 32px;\n",
              "    }\n",
              "\n",
              "    .colab-df-convert:hover {\n",
              "      background-color: #E2EBFA;\n",
              "      box-shadow: 0px 1px 2px rgba(60, 64, 67, 0.3), 0px 1px 3px 1px rgba(60, 64, 67, 0.15);\n",
              "      fill: #174EA6;\n",
              "    }\n",
              "\n",
              "    .colab-df-buttons div {\n",
              "      margin-bottom: 4px;\n",
              "    }\n",
              "\n",
              "    [theme=dark] .colab-df-convert {\n",
              "      background-color: #3B4455;\n",
              "      fill: #D2E3FC;\n",
              "    }\n",
              "\n",
              "    [theme=dark] .colab-df-convert:hover {\n",
              "      background-color: #434B5C;\n",
              "      box-shadow: 0px 1px 3px 1px rgba(0, 0, 0, 0.15);\n",
              "      filter: drop-shadow(0px 1px 2px rgba(0, 0, 0, 0.3));\n",
              "      fill: #FFFFFF;\n",
              "    }\n",
              "  </style>\n",
              "\n",
              "    <script>\n",
              "      const buttonEl =\n",
              "        document.querySelector('#df-a5283a47-90e4-40ee-a6a5-1ea2101b9abf button.colab-df-convert');\n",
              "      buttonEl.style.display =\n",
              "        google.colab.kernel.accessAllowed ? 'block' : 'none';\n",
              "\n",
              "      async function convertToInteractive(key) {\n",
              "        const element = document.querySelector('#df-a5283a47-90e4-40ee-a6a5-1ea2101b9abf');\n",
              "        const dataTable =\n",
              "          await google.colab.kernel.invokeFunction('convertToInteractive',\n",
              "                                                    [key], {});\n",
              "        if (!dataTable) return;\n",
              "\n",
              "        const docLinkHtml = 'Like what you see? Visit the ' +\n",
              "          '<a target=\"_blank\" href=https://colab.research.google.com/notebooks/data_table.ipynb>data table notebook</a>'\n",
              "          + ' to learn more about interactive tables.';\n",
              "        element.innerHTML = '';\n",
              "        dataTable['output_type'] = 'display_data';\n",
              "        await google.colab.output.renderOutput(dataTable, element);\n",
              "        const docLink = document.createElement('div');\n",
              "        docLink.innerHTML = docLinkHtml;\n",
              "        element.appendChild(docLink);\n",
              "      }\n",
              "    </script>\n",
              "  </div>\n",
              "\n",
              "\n",
              "<div id=\"df-d38b4098-e8c6-47f7-a589-8c4c77764a21\">\n",
              "  <button class=\"colab-df-quickchart\" onclick=\"quickchart('df-d38b4098-e8c6-47f7-a589-8c4c77764a21')\"\n",
              "            title=\"Suggest charts\"\n",
              "            style=\"display:none;\">\n",
              "\n",
              "<svg xmlns=\"http://www.w3.org/2000/svg\" height=\"24px\"viewBox=\"0 0 24 24\"\n",
              "     width=\"24px\">\n",
              "    <g>\n",
              "        <path d=\"M19 3H5c-1.1 0-2 .9-2 2v14c0 1.1.9 2 2 2h14c1.1 0 2-.9 2-2V5c0-1.1-.9-2-2-2zM9 17H7v-7h2v7zm4 0h-2V7h2v10zm4 0h-2v-4h2v4z\"/>\n",
              "    </g>\n",
              "</svg>\n",
              "  </button>\n",
              "\n",
              "<style>\n",
              "  .colab-df-quickchart {\n",
              "      --bg-color: #E8F0FE;\n",
              "      --fill-color: #1967D2;\n",
              "      --hover-bg-color: #E2EBFA;\n",
              "      --hover-fill-color: #174EA6;\n",
              "      --disabled-fill-color: #AAA;\n",
              "      --disabled-bg-color: #DDD;\n",
              "  }\n",
              "\n",
              "  [theme=dark] .colab-df-quickchart {\n",
              "      --bg-color: #3B4455;\n",
              "      --fill-color: #D2E3FC;\n",
              "      --hover-bg-color: #434B5C;\n",
              "      --hover-fill-color: #FFFFFF;\n",
              "      --disabled-bg-color: #3B4455;\n",
              "      --disabled-fill-color: #666;\n",
              "  }\n",
              "\n",
              "  .colab-df-quickchart {\n",
              "    background-color: var(--bg-color);\n",
              "    border: none;\n",
              "    border-radius: 50%;\n",
              "    cursor: pointer;\n",
              "    display: none;\n",
              "    fill: var(--fill-color);\n",
              "    height: 32px;\n",
              "    padding: 0;\n",
              "    width: 32px;\n",
              "  }\n",
              "\n",
              "  .colab-df-quickchart:hover {\n",
              "    background-color: var(--hover-bg-color);\n",
              "    box-shadow: 0 1px 2px rgba(60, 64, 67, 0.3), 0 1px 3px 1px rgba(60, 64, 67, 0.15);\n",
              "    fill: var(--button-hover-fill-color);\n",
              "  }\n",
              "\n",
              "  .colab-df-quickchart-complete:disabled,\n",
              "  .colab-df-quickchart-complete:disabled:hover {\n",
              "    background-color: var(--disabled-bg-color);\n",
              "    fill: var(--disabled-fill-color);\n",
              "    box-shadow: none;\n",
              "  }\n",
              "\n",
              "  .colab-df-spinner {\n",
              "    border: 2px solid var(--fill-color);\n",
              "    border-color: transparent;\n",
              "    border-bottom-color: var(--fill-color);\n",
              "    animation:\n",
              "      spin 1s steps(1) infinite;\n",
              "  }\n",
              "\n",
              "  @keyframes spin {\n",
              "    0% {\n",
              "      border-color: transparent;\n",
              "      border-bottom-color: var(--fill-color);\n",
              "      border-left-color: var(--fill-color);\n",
              "    }\n",
              "    20% {\n",
              "      border-color: transparent;\n",
              "      border-left-color: var(--fill-color);\n",
              "      border-top-color: var(--fill-color);\n",
              "    }\n",
              "    30% {\n",
              "      border-color: transparent;\n",
              "      border-left-color: var(--fill-color);\n",
              "      border-top-color: var(--fill-color);\n",
              "      border-right-color: var(--fill-color);\n",
              "    }\n",
              "    40% {\n",
              "      border-color: transparent;\n",
              "      border-right-color: var(--fill-color);\n",
              "      border-top-color: var(--fill-color);\n",
              "    }\n",
              "    60% {\n",
              "      border-color: transparent;\n",
              "      border-right-color: var(--fill-color);\n",
              "    }\n",
              "    80% {\n",
              "      border-color: transparent;\n",
              "      border-right-color: var(--fill-color);\n",
              "      border-bottom-color: var(--fill-color);\n",
              "    }\n",
              "    90% {\n",
              "      border-color: transparent;\n",
              "      border-bottom-color: var(--fill-color);\n",
              "    }\n",
              "  }\n",
              "</style>\n",
              "\n",
              "  <script>\n",
              "    async function quickchart(key) {\n",
              "      const quickchartButtonEl =\n",
              "        document.querySelector('#' + key + ' button');\n",
              "      quickchartButtonEl.disabled = true;  // To prevent multiple clicks.\n",
              "      quickchartButtonEl.classList.add('colab-df-spinner');\n",
              "      try {\n",
              "        const charts = await google.colab.kernel.invokeFunction(\n",
              "            'suggestCharts', [key], {});\n",
              "      } catch (error) {\n",
              "        console.error('Error during call to suggestCharts:', error);\n",
              "      }\n",
              "      quickchartButtonEl.classList.remove('colab-df-spinner');\n",
              "      quickchartButtonEl.classList.add('colab-df-quickchart-complete');\n",
              "    }\n",
              "    (() => {\n",
              "      let quickchartButtonEl =\n",
              "        document.querySelector('#df-d38b4098-e8c6-47f7-a589-8c4c77764a21 button');\n",
              "      quickchartButtonEl.style.display =\n",
              "        google.colab.kernel.accessAllowed ? 'block' : 'none';\n",
              "    })();\n",
              "  </script>\n",
              "</div>\n",
              "\n",
              "    </div>\n",
              "  </div>\n"
            ],
            "application/vnd.google.colaboratory.intrinsic+json": {
              "type": "dataframe",
              "variable_name": "data",
              "summary": "{\n  \"name\": \"data\",\n  \"rows\": 614,\n  \"fields\": [\n    {\n      \"column\": \"Loan_ID\",\n      \"properties\": {\n        \"dtype\": \"string\",\n        \"num_unique_values\": 614,\n        \"samples\": [\n          \"LP002139\",\n          \"LP002223\",\n          \"LP001570\"\n        ],\n        \"semantic_type\": \"\",\n        \"description\": \"\"\n      }\n    },\n    {\n      \"column\": \"Gender\",\n      \"properties\": {\n        \"dtype\": \"category\",\n        \"num_unique_values\": 2,\n        \"samples\": [\n          \"Female\",\n          \"Male\"\n        ],\n        \"semantic_type\": \"\",\n        \"description\": \"\"\n      }\n    },\n    {\n      \"column\": \"Married\",\n      \"properties\": {\n        \"dtype\": \"category\",\n        \"num_unique_values\": 2,\n        \"samples\": [\n          \"Yes\",\n          \"No\"\n        ],\n        \"semantic_type\": \"\",\n        \"description\": \"\"\n      }\n    },\n    {\n      \"column\": \"Dependents\",\n      \"properties\": {\n        \"dtype\": \"category\",\n        \"num_unique_values\": 4,\n        \"samples\": [\n          \"1\",\n          \"3+\"\n        ],\n        \"semantic_type\": \"\",\n        \"description\": \"\"\n      }\n    },\n    {\n      \"column\": \"Education\",\n      \"properties\": {\n        \"dtype\": \"category\",\n        \"num_unique_values\": 2,\n        \"samples\": [\n          \"Not Graduate\",\n          \"Graduate\"\n        ],\n        \"semantic_type\": \"\",\n        \"description\": \"\"\n      }\n    },\n    {\n      \"column\": \"Self_Employed\",\n      \"properties\": {\n        \"dtype\": \"category\",\n        \"num_unique_values\": 2,\n        \"samples\": [\n          \"Yes\",\n          \"No\"\n        ],\n        \"semantic_type\": \"\",\n        \"description\": \"\"\n      }\n    },\n    {\n      \"column\": \"ApplicantIncome\",\n      \"properties\": {\n        \"dtype\": \"number\",\n        \"std\": 6109,\n        \"min\": 150,\n        \"max\": 81000,\n        \"num_unique_values\": 505,\n        \"samples\": [\n          8333,\n          4342\n        ],\n        \"semantic_type\": \"\",\n        \"description\": \"\"\n      }\n    },\n    {\n      \"column\": \"CoapplicantIncome\",\n      \"properties\": {\n        \"dtype\": \"number\",\n        \"std\": 2926.2483692241885,\n        \"min\": 0.0,\n        \"max\": 41667.0,\n        \"num_unique_values\": 287,\n        \"samples\": [\n          1840.0,\n          2042.0\n        ],\n        \"semantic_type\": \"\",\n        \"description\": \"\"\n      }\n    },\n    {\n      \"column\": \"LoanAmount\",\n      \"properties\": {\n        \"dtype\": \"number\",\n        \"std\": 85.58732523570545,\n        \"min\": 9.0,\n        \"max\": 700.0,\n        \"num_unique_values\": 203,\n        \"samples\": [\n          100.0,\n          70.0\n        ],\n        \"semantic_type\": \"\",\n        \"description\": \"\"\n      }\n    },\n    {\n      \"column\": \"Loan_Amount_Term\",\n      \"properties\": {\n        \"dtype\": \"number\",\n        \"std\": 65.12040985461256,\n        \"min\": 12.0,\n        \"max\": 480.0,\n        \"num_unique_values\": 10,\n        \"samples\": [\n          84.0,\n          120.0\n        ],\n        \"semantic_type\": \"\",\n        \"description\": \"\"\n      }\n    },\n    {\n      \"column\": \"Credit_History\",\n      \"properties\": {\n        \"dtype\": \"number\",\n        \"std\": 0.3648783192364048,\n        \"min\": 0.0,\n        \"max\": 1.0,\n        \"num_unique_values\": 2,\n        \"samples\": [\n          0.0,\n          1.0\n        ],\n        \"semantic_type\": \"\",\n        \"description\": \"\"\n      }\n    },\n    {\n      \"column\": \"Property_Area\",\n      \"properties\": {\n        \"dtype\": \"category\",\n        \"num_unique_values\": 3,\n        \"samples\": [\n          \"Urban\",\n          \"Rural\"\n        ],\n        \"semantic_type\": \"\",\n        \"description\": \"\"\n      }\n    },\n    {\n      \"column\": \"Loan_Status\",\n      \"properties\": {\n        \"dtype\": \"category\",\n        \"num_unique_values\": 2,\n        \"samples\": [\n          \"N\",\n          \"Y\"\n        ],\n        \"semantic_type\": \"\",\n        \"description\": \"\"\n      }\n    }\n  ]\n}"
            }
          },
          "metadata": {},
          "execution_count": 4
        }
      ]
    },
    {
      "cell_type": "code",
      "source": [
        "#to get information about data set\n",
        "data.info()"
      ],
      "metadata": {
        "colab": {
          "base_uri": "https://localhost:8080/"
        },
        "id": "kZ6wOU14R3n4",
        "outputId": "cdbb2e01-09b7-41bb-888b-c25383b5fac8"
      },
      "execution_count": null,
      "outputs": [
        {
          "output_type": "stream",
          "name": "stdout",
          "text": [
            "<class 'pandas.core.frame.DataFrame'>\n",
            "RangeIndex: 614 entries, 0 to 613\n",
            "Data columns (total 13 columns):\n",
            " #   Column             Non-Null Count  Dtype  \n",
            "---  ------             --------------  -----  \n",
            " 0   Loan_ID            614 non-null    object \n",
            " 1   Gender             601 non-null    object \n",
            " 2   Married            611 non-null    object \n",
            " 3   Dependents         599 non-null    object \n",
            " 4   Education          614 non-null    object \n",
            " 5   Self_Employed      582 non-null    object \n",
            " 6   ApplicantIncome    614 non-null    int64  \n",
            " 7   CoapplicantIncome  614 non-null    float64\n",
            " 8   LoanAmount         592 non-null    float64\n",
            " 9   Loan_Amount_Term   600 non-null    float64\n",
            " 10  Credit_History     564 non-null    float64\n",
            " 11  Property_Area      614 non-null    object \n",
            " 12  Loan_Status        614 non-null    object \n",
            "dtypes: float64(4), int64(1), object(8)\n",
            "memory usage: 62.5+ KB\n"
          ]
        }
      ]
    },
    {
      "cell_type": "code",
      "source": [
        "#to describe columns\n",
        "data.columns"
      ],
      "metadata": {
        "colab": {
          "base_uri": "https://localhost:8080/"
        },
        "id": "qWfic34WSDt2",
        "outputId": "02b31fe3-7d0c-4ff6-e419-641442b077d4"
      },
      "execution_count": null,
      "outputs": [
        {
          "output_type": "execute_result",
          "data": {
            "text/plain": [
              "Index(['Loan_ID', 'Gender', 'Married', 'Dependents', 'Education',\n",
              "       'Self_Employed', 'ApplicantIncome', 'CoapplicantIncome', 'LoanAmount',\n",
              "       'Loan_Amount_Term', 'Credit_History', 'Property_Area', 'Loan_Status'],\n",
              "      dtype='object')"
            ]
          },
          "metadata": {},
          "execution_count": 6
        }
      ]
    },
    {
      "cell_type": "code",
      "source": [
        "#for statistical analysis\n",
        "data.describe()"
      ],
      "metadata": {
        "colab": {
          "base_uri": "https://localhost:8080/",
          "height": 300
        },
        "id": "QiPYoyRUSLXN",
        "outputId": "aa06678a-b482-43a0-fc90-0a431c648ece"
      },
      "execution_count": null,
      "outputs": [
        {
          "output_type": "execute_result",
          "data": {
            "text/plain": [
              "       ApplicantIncome  CoapplicantIncome  LoanAmount  Loan_Amount_Term  \\\n",
              "count       614.000000         614.000000  592.000000         600.00000   \n",
              "mean       5403.459283        1621.245798  146.412162         342.00000   \n",
              "std        6109.041673        2926.248369   85.587325          65.12041   \n",
              "min         150.000000           0.000000    9.000000          12.00000   \n",
              "25%        2877.500000           0.000000  100.000000         360.00000   \n",
              "50%        3812.500000        1188.500000  128.000000         360.00000   \n",
              "75%        5795.000000        2297.250000  168.000000         360.00000   \n",
              "max       81000.000000       41667.000000  700.000000         480.00000   \n",
              "\n",
              "       Credit_History  \n",
              "count      564.000000  \n",
              "mean         0.842199  \n",
              "std          0.364878  \n",
              "min          0.000000  \n",
              "25%          1.000000  \n",
              "50%          1.000000  \n",
              "75%          1.000000  \n",
              "max          1.000000  "
            ],
            "text/html": [
              "\n",
              "  <div id=\"df-f5bfbad7-5a08-430c-9c1e-4d6c564dcada\" class=\"colab-df-container\">\n",
              "    <div>\n",
              "<style scoped>\n",
              "    .dataframe tbody tr th:only-of-type {\n",
              "        vertical-align: middle;\n",
              "    }\n",
              "\n",
              "    .dataframe tbody tr th {\n",
              "        vertical-align: top;\n",
              "    }\n",
              "\n",
              "    .dataframe thead th {\n",
              "        text-align: right;\n",
              "    }\n",
              "</style>\n",
              "<table border=\"1\" class=\"dataframe\">\n",
              "  <thead>\n",
              "    <tr style=\"text-align: right;\">\n",
              "      <th></th>\n",
              "      <th>ApplicantIncome</th>\n",
              "      <th>CoapplicantIncome</th>\n",
              "      <th>LoanAmount</th>\n",
              "      <th>Loan_Amount_Term</th>\n",
              "      <th>Credit_History</th>\n",
              "    </tr>\n",
              "  </thead>\n",
              "  <tbody>\n",
              "    <tr>\n",
              "      <th>count</th>\n",
              "      <td>614.000000</td>\n",
              "      <td>614.000000</td>\n",
              "      <td>592.000000</td>\n",
              "      <td>600.00000</td>\n",
              "      <td>564.000000</td>\n",
              "    </tr>\n",
              "    <tr>\n",
              "      <th>mean</th>\n",
              "      <td>5403.459283</td>\n",
              "      <td>1621.245798</td>\n",
              "      <td>146.412162</td>\n",
              "      <td>342.00000</td>\n",
              "      <td>0.842199</td>\n",
              "    </tr>\n",
              "    <tr>\n",
              "      <th>std</th>\n",
              "      <td>6109.041673</td>\n",
              "      <td>2926.248369</td>\n",
              "      <td>85.587325</td>\n",
              "      <td>65.12041</td>\n",
              "      <td>0.364878</td>\n",
              "    </tr>\n",
              "    <tr>\n",
              "      <th>min</th>\n",
              "      <td>150.000000</td>\n",
              "      <td>0.000000</td>\n",
              "      <td>9.000000</td>\n",
              "      <td>12.00000</td>\n",
              "      <td>0.000000</td>\n",
              "    </tr>\n",
              "    <tr>\n",
              "      <th>25%</th>\n",
              "      <td>2877.500000</td>\n",
              "      <td>0.000000</td>\n",
              "      <td>100.000000</td>\n",
              "      <td>360.00000</td>\n",
              "      <td>1.000000</td>\n",
              "    </tr>\n",
              "    <tr>\n",
              "      <th>50%</th>\n",
              "      <td>3812.500000</td>\n",
              "      <td>1188.500000</td>\n",
              "      <td>128.000000</td>\n",
              "      <td>360.00000</td>\n",
              "      <td>1.000000</td>\n",
              "    </tr>\n",
              "    <tr>\n",
              "      <th>75%</th>\n",
              "      <td>5795.000000</td>\n",
              "      <td>2297.250000</td>\n",
              "      <td>168.000000</td>\n",
              "      <td>360.00000</td>\n",
              "      <td>1.000000</td>\n",
              "    </tr>\n",
              "    <tr>\n",
              "      <th>max</th>\n",
              "      <td>81000.000000</td>\n",
              "      <td>41667.000000</td>\n",
              "      <td>700.000000</td>\n",
              "      <td>480.00000</td>\n",
              "      <td>1.000000</td>\n",
              "    </tr>\n",
              "  </tbody>\n",
              "</table>\n",
              "</div>\n",
              "    <div class=\"colab-df-buttons\">\n",
              "\n",
              "  <div class=\"colab-df-container\">\n",
              "    <button class=\"colab-df-convert\" onclick=\"convertToInteractive('df-f5bfbad7-5a08-430c-9c1e-4d6c564dcada')\"\n",
              "            title=\"Convert this dataframe to an interactive table.\"\n",
              "            style=\"display:none;\">\n",
              "\n",
              "  <svg xmlns=\"http://www.w3.org/2000/svg\" height=\"24px\" viewBox=\"0 -960 960 960\">\n",
              "    <path d=\"M120-120v-720h720v720H120Zm60-500h600v-160H180v160Zm220 220h160v-160H400v160Zm0 220h160v-160H400v160ZM180-400h160v-160H180v160Zm440 0h160v-160H620v160ZM180-180h160v-160H180v160Zm440 0h160v-160H620v160Z\"/>\n",
              "  </svg>\n",
              "    </button>\n",
              "\n",
              "  <style>\n",
              "    .colab-df-container {\n",
              "      display:flex;\n",
              "      gap: 12px;\n",
              "    }\n",
              "\n",
              "    .colab-df-convert {\n",
              "      background-color: #E8F0FE;\n",
              "      border: none;\n",
              "      border-radius: 50%;\n",
              "      cursor: pointer;\n",
              "      display: none;\n",
              "      fill: #1967D2;\n",
              "      height: 32px;\n",
              "      padding: 0 0 0 0;\n",
              "      width: 32px;\n",
              "    }\n",
              "\n",
              "    .colab-df-convert:hover {\n",
              "      background-color: #E2EBFA;\n",
              "      box-shadow: 0px 1px 2px rgba(60, 64, 67, 0.3), 0px 1px 3px 1px rgba(60, 64, 67, 0.15);\n",
              "      fill: #174EA6;\n",
              "    }\n",
              "\n",
              "    .colab-df-buttons div {\n",
              "      margin-bottom: 4px;\n",
              "    }\n",
              "\n",
              "    [theme=dark] .colab-df-convert {\n",
              "      background-color: #3B4455;\n",
              "      fill: #D2E3FC;\n",
              "    }\n",
              "\n",
              "    [theme=dark] .colab-df-convert:hover {\n",
              "      background-color: #434B5C;\n",
              "      box-shadow: 0px 1px 3px 1px rgba(0, 0, 0, 0.15);\n",
              "      filter: drop-shadow(0px 1px 2px rgba(0, 0, 0, 0.3));\n",
              "      fill: #FFFFFF;\n",
              "    }\n",
              "  </style>\n",
              "\n",
              "    <script>\n",
              "      const buttonEl =\n",
              "        document.querySelector('#df-f5bfbad7-5a08-430c-9c1e-4d6c564dcada button.colab-df-convert');\n",
              "      buttonEl.style.display =\n",
              "        google.colab.kernel.accessAllowed ? 'block' : 'none';\n",
              "\n",
              "      async function convertToInteractive(key) {\n",
              "        const element = document.querySelector('#df-f5bfbad7-5a08-430c-9c1e-4d6c564dcada');\n",
              "        const dataTable =\n",
              "          await google.colab.kernel.invokeFunction('convertToInteractive',\n",
              "                                                    [key], {});\n",
              "        if (!dataTable) return;\n",
              "\n",
              "        const docLinkHtml = 'Like what you see? Visit the ' +\n",
              "          '<a target=\"_blank\" href=https://colab.research.google.com/notebooks/data_table.ipynb>data table notebook</a>'\n",
              "          + ' to learn more about interactive tables.';\n",
              "        element.innerHTML = '';\n",
              "        dataTable['output_type'] = 'display_data';\n",
              "        await google.colab.output.renderOutput(dataTable, element);\n",
              "        const docLink = document.createElement('div');\n",
              "        docLink.innerHTML = docLinkHtml;\n",
              "        element.appendChild(docLink);\n",
              "      }\n",
              "    </script>\n",
              "  </div>\n",
              "\n",
              "\n",
              "<div id=\"df-bf38b35f-ec60-4cb4-acc1-f8fa327d3316\">\n",
              "  <button class=\"colab-df-quickchart\" onclick=\"quickchart('df-bf38b35f-ec60-4cb4-acc1-f8fa327d3316')\"\n",
              "            title=\"Suggest charts\"\n",
              "            style=\"display:none;\">\n",
              "\n",
              "<svg xmlns=\"http://www.w3.org/2000/svg\" height=\"24px\"viewBox=\"0 0 24 24\"\n",
              "     width=\"24px\">\n",
              "    <g>\n",
              "        <path d=\"M19 3H5c-1.1 0-2 .9-2 2v14c0 1.1.9 2 2 2h14c1.1 0 2-.9 2-2V5c0-1.1-.9-2-2-2zM9 17H7v-7h2v7zm4 0h-2V7h2v10zm4 0h-2v-4h2v4z\"/>\n",
              "    </g>\n",
              "</svg>\n",
              "  </button>\n",
              "\n",
              "<style>\n",
              "  .colab-df-quickchart {\n",
              "      --bg-color: #E8F0FE;\n",
              "      --fill-color: #1967D2;\n",
              "      --hover-bg-color: #E2EBFA;\n",
              "      --hover-fill-color: #174EA6;\n",
              "      --disabled-fill-color: #AAA;\n",
              "      --disabled-bg-color: #DDD;\n",
              "  }\n",
              "\n",
              "  [theme=dark] .colab-df-quickchart {\n",
              "      --bg-color: #3B4455;\n",
              "      --fill-color: #D2E3FC;\n",
              "      --hover-bg-color: #434B5C;\n",
              "      --hover-fill-color: #FFFFFF;\n",
              "      --disabled-bg-color: #3B4455;\n",
              "      --disabled-fill-color: #666;\n",
              "  }\n",
              "\n",
              "  .colab-df-quickchart {\n",
              "    background-color: var(--bg-color);\n",
              "    border: none;\n",
              "    border-radius: 50%;\n",
              "    cursor: pointer;\n",
              "    display: none;\n",
              "    fill: var(--fill-color);\n",
              "    height: 32px;\n",
              "    padding: 0;\n",
              "    width: 32px;\n",
              "  }\n",
              "\n",
              "  .colab-df-quickchart:hover {\n",
              "    background-color: var(--hover-bg-color);\n",
              "    box-shadow: 0 1px 2px rgba(60, 64, 67, 0.3), 0 1px 3px 1px rgba(60, 64, 67, 0.15);\n",
              "    fill: var(--button-hover-fill-color);\n",
              "  }\n",
              "\n",
              "  .colab-df-quickchart-complete:disabled,\n",
              "  .colab-df-quickchart-complete:disabled:hover {\n",
              "    background-color: var(--disabled-bg-color);\n",
              "    fill: var(--disabled-fill-color);\n",
              "    box-shadow: none;\n",
              "  }\n",
              "\n",
              "  .colab-df-spinner {\n",
              "    border: 2px solid var(--fill-color);\n",
              "    border-color: transparent;\n",
              "    border-bottom-color: var(--fill-color);\n",
              "    animation:\n",
              "      spin 1s steps(1) infinite;\n",
              "  }\n",
              "\n",
              "  @keyframes spin {\n",
              "    0% {\n",
              "      border-color: transparent;\n",
              "      border-bottom-color: var(--fill-color);\n",
              "      border-left-color: var(--fill-color);\n",
              "    }\n",
              "    20% {\n",
              "      border-color: transparent;\n",
              "      border-left-color: var(--fill-color);\n",
              "      border-top-color: var(--fill-color);\n",
              "    }\n",
              "    30% {\n",
              "      border-color: transparent;\n",
              "      border-left-color: var(--fill-color);\n",
              "      border-top-color: var(--fill-color);\n",
              "      border-right-color: var(--fill-color);\n",
              "    }\n",
              "    40% {\n",
              "      border-color: transparent;\n",
              "      border-right-color: var(--fill-color);\n",
              "      border-top-color: var(--fill-color);\n",
              "    }\n",
              "    60% {\n",
              "      border-color: transparent;\n",
              "      border-right-color: var(--fill-color);\n",
              "    }\n",
              "    80% {\n",
              "      border-color: transparent;\n",
              "      border-right-color: var(--fill-color);\n",
              "      border-bottom-color: var(--fill-color);\n",
              "    }\n",
              "    90% {\n",
              "      border-color: transparent;\n",
              "      border-bottom-color: var(--fill-color);\n",
              "    }\n",
              "  }\n",
              "</style>\n",
              "\n",
              "  <script>\n",
              "    async function quickchart(key) {\n",
              "      const quickchartButtonEl =\n",
              "        document.querySelector('#' + key + ' button');\n",
              "      quickchartButtonEl.disabled = true;  // To prevent multiple clicks.\n",
              "      quickchartButtonEl.classList.add('colab-df-spinner');\n",
              "      try {\n",
              "        const charts = await google.colab.kernel.invokeFunction(\n",
              "            'suggestCharts', [key], {});\n",
              "      } catch (error) {\n",
              "        console.error('Error during call to suggestCharts:', error);\n",
              "      }\n",
              "      quickchartButtonEl.classList.remove('colab-df-spinner');\n",
              "      quickchartButtonEl.classList.add('colab-df-quickchart-complete');\n",
              "    }\n",
              "    (() => {\n",
              "      let quickchartButtonEl =\n",
              "        document.querySelector('#df-bf38b35f-ec60-4cb4-acc1-f8fa327d3316 button');\n",
              "      quickchartButtonEl.style.display =\n",
              "        google.colab.kernel.accessAllowed ? 'block' : 'none';\n",
              "    })();\n",
              "  </script>\n",
              "</div>\n",
              "\n",
              "    </div>\n",
              "  </div>\n"
            ],
            "application/vnd.google.colaboratory.intrinsic+json": {
              "type": "dataframe",
              "summary": "{\n  \"name\": \"data\",\n  \"rows\": 8,\n  \"fields\": [\n    {\n      \"column\": \"ApplicantIncome\",\n      \"properties\": {\n        \"dtype\": \"number\",\n        \"std\": 27480.19432327756,\n        \"min\": 150.0,\n        \"max\": 81000.0,\n        \"num_unique_values\": 8,\n        \"samples\": [\n          5403.459283387622,\n          3812.5,\n          614.0\n        ],\n        \"semantic_type\": \"\",\n        \"description\": \"\"\n      }\n    },\n    {\n      \"column\": \"CoapplicantIncome\",\n      \"properties\": {\n        \"dtype\": \"number\",\n        \"std\": 14332.564053846478,\n        \"min\": 0.0,\n        \"max\": 41667.0,\n        \"num_unique_values\": 7,\n        \"samples\": [\n          614.0,\n          1621.2457980271008,\n          2297.25\n        ],\n        \"semantic_type\": \"\",\n        \"description\": \"\"\n      }\n    },\n    {\n      \"column\": \"LoanAmount\",\n      \"properties\": {\n        \"dtype\": \"number\",\n        \"std\": 256.0091610169859,\n        \"min\": 9.0,\n        \"max\": 700.0,\n        \"num_unique_values\": 8,\n        \"samples\": [\n          146.41216216216216,\n          128.0,\n          592.0\n        ],\n        \"semantic_type\": \"\",\n        \"description\": \"\"\n      }\n    },\n    {\n      \"column\": \"Loan_Amount_Term\",\n      \"properties\": {\n        \"dtype\": \"number\",\n        \"std\": 196.05608042946525,\n        \"min\": 12.0,\n        \"max\": 600.0,\n        \"num_unique_values\": 6,\n        \"samples\": [\n          600.0,\n          342.0,\n          480.0\n        ],\n        \"semantic_type\": \"\",\n        \"description\": \"\"\n      }\n    },\n    {\n      \"column\": \"Credit_History\",\n      \"properties\": {\n        \"dtype\": \"number\",\n        \"std\": 199.14146277938593,\n        \"min\": 0.0,\n        \"max\": 564.0,\n        \"num_unique_values\": 5,\n        \"samples\": [\n          0.8421985815602837,\n          1.0,\n          0.3648783192364048\n        ],\n        \"semantic_type\": \"\",\n        \"description\": \"\"\n      }\n    }\n  ]\n}"
            }
          },
          "metadata": {},
          "execution_count": 7
        }
      ]
    },
    {
      "cell_type": "code",
      "source": [
        "#to find missing values\n",
        "data.isna().sum()"
      ],
      "metadata": {
        "colab": {
          "base_uri": "https://localhost:8080/"
        },
        "id": "eaY4wZ7XSTO1",
        "outputId": "f2e53fac-9007-462e-e941-fd6043c44122"
      },
      "execution_count": null,
      "outputs": [
        {
          "output_type": "execute_result",
          "data": {
            "text/plain": [
              "Loan_ID               0\n",
              "Gender               13\n",
              "Married               3\n",
              "Dependents           15\n",
              "Education             0\n",
              "Self_Employed        32\n",
              "ApplicantIncome       0\n",
              "CoapplicantIncome     0\n",
              "LoanAmount           22\n",
              "Loan_Amount_Term     14\n",
              "Credit_History       50\n",
              "Property_Area         0\n",
              "Loan_Status           0\n",
              "dtype: int64"
            ]
          },
          "metadata": {},
          "execution_count": 8
        }
      ]
    },
    {
      "cell_type": "code",
      "source": [
        "#total number of rows\n",
        "len('data')"
      ],
      "metadata": {
        "colab": {
          "base_uri": "https://localhost:8080/"
        },
        "id": "srABkXwUSl73",
        "outputId": "b1d2d8bd-db58-4b27-8d05-2797a10a6aa9"
      },
      "execution_count": null,
      "outputs": [
        {
          "output_type": "execute_result",
          "data": {
            "text/plain": [
              "4"
            ]
          },
          "metadata": {},
          "execution_count": 9
        }
      ]
    },
    {
      "cell_type": "code",
      "source": [
        "#to check the percentage of missing values\n",
        "data.isna().sum()/len('data')*100"
      ],
      "metadata": {
        "colab": {
          "base_uri": "https://localhost:8080/"
        },
        "id": "tW6gul-ATZs5",
        "outputId": "9cfff4c2-70ca-4a40-96eb-561322d0d6fb"
      },
      "execution_count": null,
      "outputs": [
        {
          "output_type": "execute_result",
          "data": {
            "text/plain": [
              "Loan_ID                 0.0\n",
              "Gender                325.0\n",
              "Married                75.0\n",
              "Dependents            375.0\n",
              "Education               0.0\n",
              "Self_Employed         800.0\n",
              "ApplicantIncome         0.0\n",
              "CoapplicantIncome       0.0\n",
              "LoanAmount            550.0\n",
              "Loan_Amount_Term      350.0\n",
              "Credit_History       1250.0\n",
              "Property_Area           0.0\n",
              "Loan_Status             0.0\n",
              "dtype: float64"
            ]
          },
          "metadata": {},
          "execution_count": 12
        }
      ]
    },
    {
      "cell_type": "code",
      "source": [
        "data.dtypes\n"
      ],
      "metadata": {
        "colab": {
          "base_uri": "https://localhost:8080/"
        },
        "id": "2fI_nElmTqYd",
        "outputId": "e49d84f1-4db0-483d-d71a-0cfb4b52d9ef"
      },
      "execution_count": null,
      "outputs": [
        {
          "output_type": "execute_result",
          "data": {
            "text/plain": [
              "Loan_ID               object\n",
              "Gender                object\n",
              "Married               object\n",
              "Dependents            object\n",
              "Education             object\n",
              "Self_Employed         object\n",
              "ApplicantIncome        int64\n",
              "CoapplicantIncome    float64\n",
              "LoanAmount           float64\n",
              "Loan_Amount_Term     float64\n",
              "Credit_History       float64\n",
              "Property_Area         object\n",
              "Loan_Status           object\n",
              "dtype: object"
            ]
          },
          "metadata": {},
          "execution_count": 10
        }
      ]
    },
    {
      "cell_type": "code",
      "source": [
        "#missing value handling\n",
        "#total seven missing values; 4 numerical and 3 categorical\n",
        "#numerical: mean or median\n",
        "#categorical: mode"
      ],
      "metadata": {
        "id": "zbsTHmJqUUSM"
      },
      "execution_count": null,
      "outputs": []
    },
    {
      "cell_type": "code",
      "source": [
        "data['Gender'].unique()"
      ],
      "metadata": {
        "colab": {
          "base_uri": "https://localhost:8080/"
        },
        "id": "gU08H_7Rayj3",
        "outputId": "6b7b08d2-1d59-48d8-a8a4-51ca5a79f017"
      },
      "execution_count": null,
      "outputs": [
        {
          "output_type": "execute_result",
          "data": {
            "text/plain": [
              "array(['Male', 'Female', nan], dtype=object)"
            ]
          },
          "metadata": {},
          "execution_count": 12
        }
      ]
    },
    {
      "cell_type": "code",
      "source": [
        "#to find the frequency\n",
        "data['Gender'].value_counts()\n"
      ],
      "metadata": {
        "colab": {
          "base_uri": "https://localhost:8080/"
        },
        "id": "RyrYLui5cqvc",
        "outputId": "b70d1f4c-f4a6-4237-9a15-70912cf481ff"
      },
      "execution_count": null,
      "outputs": [
        {
          "output_type": "execute_result",
          "data": {
            "text/plain": [
              "Gender\n",
              "Male      489\n",
              "Female    112\n",
              "Name: count, dtype: int64"
            ]
          },
          "metadata": {},
          "execution_count": 13
        }
      ]
    },
    {
      "cell_type": "code",
      "source": [
        "data['Gender'] = data['Gender'].fillna('Male')"
      ],
      "metadata": {
        "id": "dIN9vyfwc26t"
      },
      "execution_count": null,
      "outputs": []
    },
    {
      "cell_type": "code",
      "source": [
        "data.isna().sum()"
      ],
      "metadata": {
        "colab": {
          "base_uri": "https://localhost:8080/"
        },
        "id": "eQxPugpgeGcQ",
        "outputId": "8bb6dbac-8a3d-4d13-a1d6-e5758a1d9c33"
      },
      "execution_count": null,
      "outputs": [
        {
          "output_type": "execute_result",
          "data": {
            "text/plain": [
              "Loan_ID               0\n",
              "Gender                0\n",
              "Married               3\n",
              "Dependents           15\n",
              "Education             0\n",
              "Self_Employed        32\n",
              "ApplicantIncome       0\n",
              "CoapplicantIncome     0\n",
              "LoanAmount           22\n",
              "Loan_Amount_Term     14\n",
              "Credit_History       50\n",
              "Property_Area         0\n",
              "Loan_Status           0\n",
              "dtype: int64"
            ]
          },
          "metadata": {},
          "execution_count": 15
        }
      ]
    },
    {
      "cell_type": "code",
      "source": [
        "data['Married'].unique()"
      ],
      "metadata": {
        "id": "DoUH31nJeJ-H",
        "colab": {
          "base_uri": "https://localhost:8080/"
        },
        "outputId": "74908561-704f-4dc5-c152-dbb034dd78b1"
      },
      "execution_count": null,
      "outputs": [
        {
          "output_type": "execute_result",
          "data": {
            "text/plain": [
              "array(['No', 'Yes', nan], dtype=object)"
            ]
          },
          "metadata": {},
          "execution_count": 16
        }
      ]
    },
    {
      "cell_type": "code",
      "source": [
        "data['Married'].value_counts()"
      ],
      "metadata": {
        "colab": {
          "base_uri": "https://localhost:8080/"
        },
        "id": "DJQje5gmbndl",
        "outputId": "b0f1aed8-51ee-4bf9-fc33-9a6fe9c40ac9"
      },
      "execution_count": null,
      "outputs": [
        {
          "output_type": "execute_result",
          "data": {
            "text/plain": [
              "Married\n",
              "Yes    398\n",
              "No     213\n",
              "Name: count, dtype: int64"
            ]
          },
          "metadata": {},
          "execution_count": 17
        }
      ]
    },
    {
      "cell_type": "code",
      "source": [
        "data['Married'] = data['Married'].fillna('Yes')"
      ],
      "metadata": {
        "id": "X64vJNIObupX"
      },
      "execution_count": null,
      "outputs": []
    },
    {
      "cell_type": "code",
      "source": [
        "data.isna().sum()"
      ],
      "metadata": {
        "colab": {
          "base_uri": "https://localhost:8080/"
        },
        "id": "7IVwagwibyzz",
        "outputId": "2d83aef2-abb5-4222-9ac3-d9dfadb8308b"
      },
      "execution_count": null,
      "outputs": [
        {
          "output_type": "execute_result",
          "data": {
            "text/plain": [
              "Loan_ID               0\n",
              "Gender                0\n",
              "Married               0\n",
              "Dependents           15\n",
              "Education             0\n",
              "Self_Employed        32\n",
              "ApplicantIncome       0\n",
              "CoapplicantIncome     0\n",
              "LoanAmount           22\n",
              "Loan_Amount_Term     14\n",
              "Credit_History       50\n",
              "Property_Area         0\n",
              "Loan_Status           0\n",
              "dtype: int64"
            ]
          },
          "metadata": {},
          "execution_count": 19
        }
      ]
    },
    {
      "cell_type": "code",
      "source": [
        "data['Self_Employed'].unique()"
      ],
      "metadata": {
        "colab": {
          "base_uri": "https://localhost:8080/"
        },
        "id": "RPAR_4jlb26g",
        "outputId": "032357e3-efb8-432e-cf94-3eaade9d3ca6"
      },
      "execution_count": null,
      "outputs": [
        {
          "output_type": "execute_result",
          "data": {
            "text/plain": [
              "array(['No', 'Yes', nan], dtype=object)"
            ]
          },
          "metadata": {},
          "execution_count": 20
        }
      ]
    },
    {
      "cell_type": "code",
      "source": [
        "data['Self_Employed'].value_counts()"
      ],
      "metadata": {
        "colab": {
          "base_uri": "https://localhost:8080/"
        },
        "id": "lfjCgfKab8JC",
        "outputId": "bb88db09-c75b-40a4-c2a4-8770e6e10845"
      },
      "execution_count": null,
      "outputs": [
        {
          "output_type": "execute_result",
          "data": {
            "text/plain": [
              "Self_Employed\n",
              "No     500\n",
              "Yes     82\n",
              "Name: count, dtype: int64"
            ]
          },
          "metadata": {},
          "execution_count": 21
        }
      ]
    },
    {
      "cell_type": "code",
      "source": [
        "data['Self_Employed'] = data['Self_Employed'].fillna('No')"
      ],
      "metadata": {
        "id": "RFEaf7Sgb_fa"
      },
      "execution_count": null,
      "outputs": []
    },
    {
      "cell_type": "code",
      "source": [
        "data.isna().sum()"
      ],
      "metadata": {
        "colab": {
          "base_uri": "https://localhost:8080/"
        },
        "id": "e2HyrvCbcFzh",
        "outputId": "e643f344-2d19-4259-b8ce-260ff59df6ed"
      },
      "execution_count": null,
      "outputs": [
        {
          "output_type": "execute_result",
          "data": {
            "text/plain": [
              "Loan_ID               0\n",
              "Gender                0\n",
              "Married               0\n",
              "Dependents           15\n",
              "Education             0\n",
              "Self_Employed         0\n",
              "ApplicantIncome       0\n",
              "CoapplicantIncome     0\n",
              "LoanAmount           22\n",
              "Loan_Amount_Term     14\n",
              "Credit_History       50\n",
              "Property_Area         0\n",
              "Loan_Status           0\n",
              "dtype: int64"
            ]
          },
          "metadata": {},
          "execution_count": 23
        }
      ]
    },
    {
      "cell_type": "code",
      "source": [
        "data['Dependents'] = data['Dependents'].astype(str)\n"
      ],
      "metadata": {
        "id": "263gWtHFcKCE"
      },
      "execution_count": null,
      "outputs": []
    },
    {
      "cell_type": "code",
      "source": [
        "plt.hist(data['Dependents'])\n",
        "plt.title('Distribution of Dependents')\n",
        "plt.xlabel('Dependents')\n",
        "plt.ylabel('frequency')\n",
        "plt.show()"
      ],
      "metadata": {
        "colab": {
          "base_uri": "https://localhost:8080/",
          "height": 472
        },
        "id": "wLFueUCycQaw",
        "outputId": "e82f3dab-7325-452c-84b8-2c8c4a387b8c"
      },
      "execution_count": null,
      "outputs": [
        {
          "output_type": "display_data",
          "data": {
            "text/plain": [
              "<Figure size 640x480 with 1 Axes>"
            ],
            "image/png": "[encoded data removed]"
          },
          "metadata": {}
        }
      ]
    },
    {
      "cell_type": "code",
      "source": [
        "data['Dependents'] = data['Dependents'].replace('3+', 3)"
      ],
      "metadata": {
        "id": "3_GG-_IBcUrr"
      },
      "execution_count": null,
      "outputs": []
    },
    {
      "cell_type": "code",
      "source": [
        "data['Dependents'] = pd.to_numeric(data['Dependents'], errors='coerce')"
      ],
      "metadata": {
        "id": "Nn8_fUbkcYya"
      },
      "execution_count": null,
      "outputs": []
    },
    {
      "cell_type": "code",
      "source": [
        "data.dropna(subset=['Dependents'], inplace=True)"
      ],
      "metadata": {
        "id": "x44IUWJccj9u"
      },
      "execution_count": null,
      "outputs": []
    },
    {
      "cell_type": "code",
      "source": [
        "median_dpnd = data['Dependents'].median()"
      ],
      "metadata": {
        "id": "nkKAAqoUcmm_"
      },
      "execution_count": null,
      "outputs": []
    },
    {
      "cell_type": "code",
      "source": [
        "print(\"Median Dependents:\", median_dpnd)"
      ],
      "metadata": {
        "colab": {
          "base_uri": "https://localhost:8080/"
        },
        "id": "aj7sQW9acq8e",
        "outputId": "e63aca71-6944-4e6e-bc4d-cff701cb47e7"
      },
      "execution_count": null,
      "outputs": [
        {
          "output_type": "stream",
          "name": "stdout",
          "text": [
            "Median Dependents: 0.0\n"
          ]
        }
      ]
    },
    {
      "cell_type": "code",
      "source": [
        "data['Dependents'] = data['Dependents'].fillna(median_dpnd)"
      ],
      "metadata": {
        "id": "pwUMraQwct9l"
      },
      "execution_count": null,
      "outputs": []
    },
    {
      "cell_type": "code",
      "source": [
        "data.isna().sum()"
      ],
      "metadata": {
        "colab": {
          "base_uri": "https://localhost:8080/"
        },
        "id": "hQz7I3wwcxcQ",
        "outputId": "bead4abb-9472-4774-85f2-3028f211345c"
      },
      "execution_count": null,
      "outputs": [
        {
          "output_type": "execute_result",
          "data": {
            "text/plain": [
              "Loan_ID               0\n",
              "Gender                0\n",
              "Married               0\n",
              "Dependents            0\n",
              "Education             0\n",
              "Self_Employed         0\n",
              "ApplicantIncome       0\n",
              "CoapplicantIncome     0\n",
              "LoanAmount           20\n",
              "Loan_Amount_Term     13\n",
              "Credit_History       50\n",
              "Property_Area         0\n",
              "Loan_Status           0\n",
              "dtype: int64"
            ]
          },
          "metadata": {},
          "execution_count": 32
        }
      ]
    },
    {
      "cell_type": "code",
      "source": [
        "plt.hist(data['LoanAmount'])\n",
        "plt.title('Distribution of LoanAmount ')\n",
        "plt.xlabel('LoanAmount')\n",
        "plt.ylabel('frequency')\n",
        "plt.show()"
      ],
      "metadata": {
        "colab": {
          "base_uri": "https://localhost:8080/",
          "height": 472
        },
        "id": "WS3NVTymc0dk",
        "outputId": "52bb4379-7b95-4de1-e774-883e8d7f8a89"
      },
      "execution_count": null,
      "outputs": [
        {
          "output_type": "display_data",
          "data": {
            "text/plain": [
              "<Figure size 640x480 with 1 Axes>"
            ],
            "image/png": "[encoded data removed]"
          },
          "metadata": {}
        }
      ]
    },
    {
      "cell_type": "code",
      "source": [
        "median_loanamt = data['LoanAmount'].median()"
      ],
      "metadata": {
        "id": "L-PB83iEc6jC"
      },
      "execution_count": null,
      "outputs": []
    },
    {
      "cell_type": "code",
      "source": [
        "median_loanamt"
      ],
      "metadata": {
        "colab": {
          "base_uri": "https://localhost:8080/"
        },
        "id": "C-2OhWpIc-2Q",
        "outputId": "1bb5fbe9-958a-4a25-d831-5013af30f486"
      },
      "execution_count": null,
      "outputs": [
        {
          "output_type": "execute_result",
          "data": {
            "text/plain": [
              "128.0"
            ]
          },
          "metadata": {},
          "execution_count": 35
        }
      ]
    },
    {
      "cell_type": "code",
      "source": [
        "data['LoanAmount'] = data['LoanAmount'].fillna(median_loanamt)"
      ],
      "metadata": {
        "id": "qaIYdQ7LdCYe"
      },
      "execution_count": null,
      "outputs": []
    },
    {
      "cell_type": "code",
      "source": [
        "data.isna().sum()"
      ],
      "metadata": {
        "colab": {
          "base_uri": "https://localhost:8080/"
        },
        "id": "naY90dDbdFlg",
        "outputId": "b61677c5-eb32-4bd0-cc8a-dc6d7446ab0d"
      },
      "execution_count": null,
      "outputs": [
        {
          "output_type": "execute_result",
          "data": {
            "text/plain": [
              "Loan_ID               0\n",
              "Gender                0\n",
              "Married               0\n",
              "Dependents            0\n",
              "Education             0\n",
              "Self_Employed         0\n",
              "ApplicantIncome       0\n",
              "CoapplicantIncome     0\n",
              "LoanAmount            0\n",
              "Loan_Amount_Term     13\n",
              "Credit_History       50\n",
              "Property_Area         0\n",
              "Loan_Status           0\n",
              "dtype: int64"
            ]
          },
          "metadata": {},
          "execution_count": 37
        }
      ]
    },
    {
      "cell_type": "code",
      "source": [
        "plt.hist(data['Loan_Amount_Term'])\n",
        "plt.title('Distribution of Loan_Amount_Term ')\n",
        "plt.xlabel('Loan_Amount_Term')\n",
        "plt.ylabel('frequency')\n",
        "plt.show()"
      ],
      "metadata": {
        "colab": {
          "base_uri": "https://localhost:8080/",
          "height": 472
        },
        "id": "9spawf2hdJU6",
        "outputId": "69eaadfd-b248-41ae-eedd-9ffc2aa5bf18"
      },
      "execution_count": null,
      "outputs": [
        {
          "output_type": "display_data",
          "data": {
            "text/plain": [
              "<Figure size 640x480 with 1 Axes>"
            ],
            "image/png": "[encoded data removed]"
          },
          "metadata": {}
        }
      ]
    },
    {
      "cell_type": "code",
      "source": [
        "median_loanterm = data['Loan_Amount_Term'].median()"
      ],
      "metadata": {
        "id": "4ne1yoTldPGG"
      },
      "execution_count": null,
      "outputs": []
    },
    {
      "cell_type": "code",
      "source": [
        "median_loanterm"
      ],
      "metadata": {
        "colab": {
          "base_uri": "https://localhost:8080/"
        },
        "id": "ySay4tGWdSls",
        "outputId": "23fd6cdf-7121-4196-d7c2-5d0044bdfb24"
      },
      "execution_count": null,
      "outputs": [
        {
          "output_type": "execute_result",
          "data": {
            "text/plain": [
              "360.0"
            ]
          },
          "metadata": {},
          "execution_count": 40
        }
      ]
    },
    {
      "cell_type": "code",
      "source": [
        "data['Loan_Amount_Term'] = data['Loan_Amount_Term'].fillna(median_loanterm)"
      ],
      "metadata": {
        "id": "jMYoWneCdWKf"
      },
      "execution_count": null,
      "outputs": []
    },
    {
      "cell_type": "code",
      "source": [
        "data.isna().sum()"
      ],
      "metadata": {
        "colab": {
          "base_uri": "https://localhost:8080/"
        },
        "id": "IABtlzaxdZW5",
        "outputId": "601d33eb-9b09-44fd-ebbe-086f76ba3aef"
      },
      "execution_count": null,
      "outputs": [
        {
          "output_type": "execute_result",
          "data": {
            "text/plain": [
              "Loan_ID               0\n",
              "Gender                0\n",
              "Married               0\n",
              "Dependents            0\n",
              "Education             0\n",
              "Self_Employed         0\n",
              "ApplicantIncome       0\n",
              "CoapplicantIncome     0\n",
              "LoanAmount            0\n",
              "Loan_Amount_Term      0\n",
              "Credit_History       50\n",
              "Property_Area         0\n",
              "Loan_Status           0\n",
              "dtype: int64"
            ]
          },
          "metadata": {},
          "execution_count": 42
        }
      ]
    },
    {
      "cell_type": "code",
      "source": [
        "plt.hist(data['Credit_History'])\n",
        "plt.title('Distribution of Credit_History ')\n",
        "plt.xlabel('Credit_History')\n",
        "plt.ylabel('frequency')\n",
        "plt.show()"
      ],
      "metadata": {
        "colab": {
          "base_uri": "https://localhost:8080/",
          "height": 472
        },
        "id": "ZmguHpr5dc9X",
        "outputId": "f71e4bfa-bc8d-46ab-b843-c52c67a3d6a7"
      },
      "execution_count": null,
      "outputs": [
        {
          "output_type": "display_data",
          "data": {
            "text/plain": [
              "<Figure size 640x480 with 1 Axes>"
            ],
            "image/png": "[encoded data removed]"
          },
          "metadata": {}
        }
      ]
    },
    {
      "cell_type": "code",
      "source": [
        "median_cred = data['Credit_History'].median()"
      ],
      "metadata": {
        "id": "eedA2ZnpdhMs"
      },
      "execution_count": null,
      "outputs": []
    },
    {
      "cell_type": "code",
      "source": [
        "median_cred"
      ],
      "metadata": {
        "colab": {
          "base_uri": "https://localhost:8080/"
        },
        "id": "7myWwwexdmsh",
        "outputId": "aa245183-ee98-4c64-fada-d611ec5a78ae"
      },
      "execution_count": null,
      "outputs": [
        {
          "output_type": "execute_result",
          "data": {
            "text/plain": [
              "1.0"
            ]
          },
          "metadata": {},
          "execution_count": 45
        }
      ]
    },
    {
      "cell_type": "code",
      "source": [
        "data['Credit_History'] = data['Credit_History'].fillna(median_cred)"
      ],
      "metadata": {
        "id": "JgyX0JmhdqIR"
      },
      "execution_count": null,
      "outputs": []
    },
    {
      "cell_type": "code",
      "source": [
        "data.isna().sum()"
      ],
      "metadata": {
        "colab": {
          "base_uri": "https://localhost:8080/"
        },
        "id": "h6wSY38YdszC",
        "outputId": "2d112754-1d9d-4b90-cbfd-7aca5b6ad80c"
      },
      "execution_count": null,
      "outputs": [
        {
          "output_type": "execute_result",
          "data": {
            "text/plain": [
              "Loan_ID              0\n",
              "Gender               0\n",
              "Married              0\n",
              "Dependents           0\n",
              "Education            0\n",
              "Self_Employed        0\n",
              "ApplicantIncome      0\n",
              "CoapplicantIncome    0\n",
              "LoanAmount           0\n",
              "Loan_Amount_Term     0\n",
              "Credit_History       0\n",
              "Property_Area        0\n",
              "Loan_Status          0\n",
              "dtype: int64"
            ]
          },
          "metadata": {},
          "execution_count": 47
        }
      ]
    },
    {
      "cell_type": "code",
      "source": [
        "# outlier detection\n",
        "plt.boxplot(data['CoapplicantIncome'])\n",
        "plt.show()"
      ],
      "metadata": {
        "colab": {
          "base_uri": "https://localhost:8080/",
          "height": 430
        },
        "id": "WxnRyH_tdv9J",
        "outputId": "8baf8adc-5dd2-43a4-ea0d-7b30f7656a5f"
      },
      "execution_count": null,
      "outputs": [
        {
          "output_type": "display_data",
          "data": {
            "text/plain": [
              "<Figure size 640x480 with 1 Axes>"
            ],
            "image/png": "[encoded data removed]"
          },
          "metadata": {}
        }
      ]
    },
    {
      "cell_type": "code",
      "source": [
        "#encoding\n",
        "data.dtypes"
      ],
      "metadata": {
        "colab": {
          "base_uri": "https://localhost:8080/"
        },
        "id": "ezSxs539d0xD",
        "outputId": "ba9aa399-4c77-404c-f225-c9c011c7068d"
      },
      "execution_count": null,
      "outputs": [
        {
          "output_type": "execute_result",
          "data": {
            "text/plain": [
              "Loan_ID               object\n",
              "Gender                object\n",
              "Married               object\n",
              "Dependents           float64\n",
              "Education             object\n",
              "Self_Employed         object\n",
              "ApplicantIncome        int64\n",
              "CoapplicantIncome    float64\n",
              "LoanAmount           float64\n",
              "Loan_Amount_Term     float64\n",
              "Credit_History       float64\n",
              "Property_Area         object\n",
              "Loan_Status           object\n",
              "dtype: object"
            ]
          },
          "metadata": {},
          "execution_count": 49
        }
      ]
    },
    {
      "cell_type": "code",
      "source": [
        "data.columns"
      ],
      "metadata": {
        "colab": {
          "base_uri": "https://localhost:8080/"
        },
        "id": "uso1vHE7d4D8",
        "outputId": "614446f1-3f4f-47f3-f762-4220ab7df886"
      },
      "execution_count": null,
      "outputs": [
        {
          "output_type": "execute_result",
          "data": {
            "text/plain": [
              "Index(['Loan_ID', 'Gender', 'Married', 'Dependents', 'Education',\n",
              "       'Self_Employed', 'ApplicantIncome', 'CoapplicantIncome', 'LoanAmount',\n",
              "       'Loan_Amount_Term', 'Credit_History', 'Property_Area', 'Loan_Status'],\n",
              "      dtype='object')"
            ]
          },
          "metadata": {},
          "execution_count": 50
        }
      ]
    },
    {
      "cell_type": "code",
      "source": [
        "cat_cols = ['Loan_ID', 'Gender', 'Married', 'Education',\n",
        "       'Self_Employed', 'Property_Area', 'Loan_Status']"
      ],
      "metadata": {
        "id": "Z8sh8UgSd8nd"
      },
      "execution_count": null,
      "outputs": []
    },
    {
      "cell_type": "code",
      "source": [
        "data[cat_cols]"
      ],
      "metadata": {
        "colab": {
          "base_uri": "https://localhost:8080/",
          "height": 423
        },
        "id": "p3mO_6_veAGD",
        "outputId": "9e879ca5-8912-4fa3-b0af-37a3f3b705bf"
      },
      "execution_count": null,
      "outputs": [
        {
          "output_type": "execute_result",
          "data": {
            "text/plain": [
              "      Loan_ID  Gender Married     Education Self_Employed Property_Area  \\\n",
              "0    LP001002    Male      No      Graduate            No         Urban   \n",
              "1    LP001003    Male     Yes      Graduate            No         Rural   \n",
              "2    LP001005    Male     Yes      Graduate           Yes         Urban   \n",
              "3    LP001006    Male     Yes  Not Graduate            No         Urban   \n",
              "4    LP001008    Male      No      Graduate            No         Urban   \n",
              "..        ...     ...     ...           ...           ...           ...   \n",
              "609  LP002978  Female      No      Graduate            No         Rural   \n",
              "610  LP002979    Male     Yes      Graduate            No         Rural   \n",
              "611  LP002983    Male     Yes      Graduate            No         Urban   \n",
              "612  LP002984    Male     Yes      Graduate            No         Urban   \n",
              "613  LP002990  Female      No      Graduate           Yes     Semiurban   \n",
              "\n",
              "    Loan_Status  \n",
              "0             Y  \n",
              "1             N  \n",
              "2             Y  \n",
              "3             Y  \n",
              "4             Y  \n",
              "..          ...  \n",
              "609           Y  \n",
              "610           Y  \n",
              "611           Y  \n",
              "612           Y  \n",
              "613           N  \n",
              "\n",
              "[599 rows x 7 columns]"
            ],
            "text/html": [
              "\n",
              "  <div id=\"df-ff76047d-d555-407d-b7bd-eba98bbc0eb2\" class=\"colab-df-container\">\n",
              "    <div>\n",
              "<style scoped>\n",
              "    .dataframe tbody tr th:only-of-type {\n",
              "        vertical-align: middle;\n",
              "    }\n",
              "\n",
              "    .dataframe tbody tr th {\n",
              "        vertical-align: top;\n",
              "    }\n",
              "\n",
              "    .dataframe thead th {\n",
              "        text-align: right;\n",
              "    }\n",
              "</style>\n",
              "<table border=\"1\" class=\"dataframe\">\n",
              "  <thead>\n",
              "    <tr style=\"text-align: right;\">\n",
              "      <th></th>\n",
              "      <th>Loan_ID</th>\n",
              "      <th>Gender</th>\n",
              "      <th>Married</th>\n",
              "      <th>Education</th>\n",
              "      <th>Self_Employed</th>\n",
              "      <th>Property_Area</th>\n",
              "      <th>Loan_Status</th>\n",
              "    </tr>\n",
              "  </thead>\n",
              "  <tbody>\n",
              "    <tr>\n",
              "      <th>0</th>\n",
              "      <td>LP001002</td>\n",
              "      <td>Male</td>\n",
              "      <td>No</td>\n",
              "      <td>Graduate</td>\n",
              "      <td>No</td>\n",
              "      <td>Urban</td>\n",
              "      <td>Y</td>\n",
              "    </tr>\n",
              "    <tr>\n",
              "      <th>1</th>\n",
              "      <td>LP001003</td>\n",
              "      <td>Male</td>\n",
              "      <td>Yes</td>\n",
              "      <td>Graduate</td>\n",
              "      <td>No</td>\n",
              "      <td>Rural</td>\n",
              "      <td>N</td>\n",
              "    </tr>\n",
              "    <tr>\n",
              "      <th>2</th>\n",
              "      <td>LP001005</td>\n",
              "      <td>Male</td>\n",
              "      <td>Yes</td>\n",
              "      <td>Graduate</td>\n",
              "      <td>Yes</td>\n",
              "      <td>Urban</td>\n",
              "      <td>Y</td>\n",
              "    </tr>\n",
              "    <tr>\n",
              "      <th>3</th>\n",
              "      <td>LP001006</td>\n",
              "      <td>Male</td>\n",
              "      <td>Yes</td>\n",
              "      <td>Not Graduate</td>\n",
              "      <td>No</td>\n",
              "      <td>Urban</td>\n",
              "      <td>Y</td>\n",
              "    </tr>\n",
              "    <tr>\n",
              "      <th>4</th>\n",
              "      <td>LP001008</td>\n",
              "      <td>Male</td>\n",
              "      <td>No</td>\n",
              "      <td>Graduate</td>\n",
              "      <td>No</td>\n",
              "      <td>Urban</td>\n",
              "      <td>Y</td>\n",
              "    </tr>\n",
              "    <tr>\n",
              "      <th>...</th>\n",
              "      <td>...</td>\n",
              "      <td>...</td>\n",
              "      <td>...</td>\n",
              "      <td>...</td>\n",
              "      <td>...</td>\n",
              "      <td>...</td>\n",
              "      <td>...</td>\n",
              "    </tr>\n",
              "    <tr>\n",
              "      <th>609</th>\n",
              "      <td>LP002978</td>\n",
              "      <td>Female</td>\n",
              "      <td>No</td>\n",
              "      <td>Graduate</td>\n",
              "      <td>No</td>\n",
              "      <td>Rural</td>\n",
              "      <td>Y</td>\n",
              "    </tr>\n",
              "    <tr>\n",
              "      <th>610</th>\n",
              "      <td>LP002979</td>\n",
              "      <td>Male</td>\n",
              "      <td>Yes</td>\n",
              "      <td>Graduate</td>\n",
              "      <td>No</td>\n",
              "      <td>Rural</td>\n",
              "      <td>Y</td>\n",
              "    </tr>\n",
              "    <tr>\n",
              "      <th>611</th>\n",
              "      <td>LP002983</td>\n",
              "      <td>Male</td>\n",
              "      <td>Yes</td>\n",
              "      <td>Graduate</td>\n",
              "      <td>No</td>\n",
              "      <td>Urban</td>\n",
              "      <td>Y</td>\n",
              "    </tr>\n",
              "    <tr>\n",
              "      <th>612</th>\n",
              "      <td>LP002984</td>\n",
              "      <td>Male</td>\n",
              "      <td>Yes</td>\n",
              "      <td>Graduate</td>\n",
              "      <td>No</td>\n",
              "      <td>Urban</td>\n",
              "      <td>Y</td>\n",
              "    </tr>\n",
              "    <tr>\n",
              "      <th>613</th>\n",
              "      <td>LP002990</td>\n",
              "      <td>Female</td>\n",
              "      <td>No</td>\n",
              "      <td>Graduate</td>\n",
              "      <td>Yes</td>\n",
              "      <td>Semiurban</td>\n",
              "      <td>N</td>\n",
              "    </tr>\n",
              "  </tbody>\n",
              "</table>\n",
              "<p>599 rows × 7 columns</p>\n",
              "</div>\n",
              "    <div class=\"colab-df-buttons\">\n",
              "\n",
              "  <div class=\"colab-df-container\">\n",
              "    <button class=\"colab-df-convert\" onclick=\"convertToInteractive('df-ff76047d-d555-407d-b7bd-eba98bbc0eb2')\"\n",
              "            title=\"Convert this dataframe to an interactive table.\"\n",
              "            style=\"display:none;\">\n",
              "\n",
              "  <svg xmlns=\"http://www.w3.org/2000/svg\" height=\"24px\" viewBox=\"0 -960 960 960\">\n",
              "    <path d=\"M120-120v-720h720v720H120Zm60-500h600v-160H180v160Zm220 220h160v-160H400v160Zm0 220h160v-160H400v160ZM180-400h160v-160H180v160Zm440 0h160v-160H620v160ZM180-180h160v-160H180v160Zm440 0h160v-160H620v160Z\"/>\n",
              "  </svg>\n",
              "    </button>\n",
              "\n",
              "  <style>\n",
              "    .colab-df-container {\n",
              "      display:flex;\n",
              "      gap: 12px;\n",
              "    }\n",
              "\n",
              "    .colab-df-convert {\n",
              "      background-color: #E8F0FE;\n",
              "      border: none;\n",
              "      border-radius: 50%;\n",
              "      cursor: pointer;\n",
              "      display: none;\n",
              "      fill: #1967D2;\n",
              "      height: 32px;\n",
              "      padding: 0 0 0 0;\n",
              "      width: 32px;\n",
              "    }\n",
              "\n",
              "    .colab-df-convert:hover {\n",
              "      background-color: #E2EBFA;\n",
              "      box-shadow: 0px 1px 2px rgba(60, 64, 67, 0.3), 0px 1px 3px 1px rgba(60, 64, 67, 0.15);\n",
              "      fill: #174EA6;\n",
              "    }\n",
              "\n",
              "    .colab-df-buttons div {\n",
              "      margin-bottom: 4px;\n",
              "    }\n",
              "\n",
              "    [theme=dark] .colab-df-convert {\n",
              "      background-color: #3B4455;\n",
              "      fill: #D2E3FC;\n",
              "    }\n",
              "\n",
              "    [theme=dark] .colab-df-convert:hover {\n",
              "      background-color: #434B5C;\n",
              "      box-shadow: 0px 1px 3px 1px rgba(0, 0, 0, 0.15);\n",
              "      filter: drop-shadow(0px 1px 2px rgba(0, 0, 0, 0.3));\n",
              "      fill: #FFFFFF;\n",
              "    }\n",
              "  </style>\n",
              "\n",
              "    <script>\n",
              "      const buttonEl =\n",
              "        document.querySelector('#df-ff76047d-d555-407d-b7bd-eba98bbc0eb2 button.colab-df-convert');\n",
              "      buttonEl.style.display =\n",
              "        google.colab.kernel.accessAllowed ? 'block' : 'none';\n",
              "\n",
              "      async function convertToInteractive(key) {\n",
              "        const element = document.querySelector('#df-ff76047d-d555-407d-b7bd-eba98bbc0eb2');\n",
              "        const dataTable =\n",
              "          await google.colab.kernel.invokeFunction('convertToInteractive',\n",
              "                                                    [key], {});\n",
              "        if (!dataTable) return;\n",
              "\n",
              "        const docLinkHtml = 'Like what you see? Visit the ' +\n",
              "          '<a target=\"_blank\" href=https://colab.research.google.com/notebooks/data_table.ipynb>data table notebook</a>'\n",
              "          + ' to learn more about interactive tables.';\n",
              "        element.innerHTML = '';\n",
              "        dataTable['output_type'] = 'display_data';\n",
              "        await google.colab.output.renderOutput(dataTable, element);\n",
              "        const docLink = document.createElement('div');\n",
              "        docLink.innerHTML = docLinkHtml;\n",
              "        element.appendChild(docLink);\n",
              "      }\n",
              "    </script>\n",
              "  </div>\n",
              "\n",
              "\n",
              "<div id=\"df-0ec130c7-989c-4d37-879d-2c0e6aa9616a\">\n",
              "  <button class=\"colab-df-quickchart\" onclick=\"quickchart('df-0ec130c7-989c-4d37-879d-2c0e6aa9616a')\"\n",
              "            title=\"Suggest charts\"\n",
              "            style=\"display:none;\">\n",
              "\n",
              "<svg xmlns=\"http://www.w3.org/2000/svg\" height=\"24px\"viewBox=\"0 0 24 24\"\n",
              "     width=\"24px\">\n",
              "    <g>\n",
              "        <path d=\"M19 3H5c-1.1 0-2 .9-2 2v14c0 1.1.9 2 2 2h14c1.1 0 2-.9 2-2V5c0-1.1-.9-2-2-2zM9 17H7v-7h2v7zm4 0h-2V7h2v10zm4 0h-2v-4h2v4z\"/>\n",
              "    </g>\n",
              "</svg>\n",
              "  </button>\n",
              "\n",
              "<style>\n",
              "  .colab-df-quickchart {\n",
              "      --bg-color: #E8F0FE;\n",
              "      --fill-color: #1967D2;\n",
              "      --hover-bg-color: #E2EBFA;\n",
              "      --hover-fill-color: #174EA6;\n",
              "      --disabled-fill-color: #AAA;\n",
              "      --disabled-bg-color: #DDD;\n",
              "  }\n",
              "\n",
              "  [theme=dark] .colab-df-quickchart {\n",
              "      --bg-color: #3B4455;\n",
              "      --fill-color: #D2E3FC;\n",
              "      --hover-bg-color: #434B5C;\n",
              "      --hover-fill-color: #FFFFFF;\n",
              "      --disabled-bg-color: #3B4455;\n",
              "      --disabled-fill-color: #666;\n",
              "  }\n",
              "\n",
              "  .colab-df-quickchart {\n",
              "    background-color: var(--bg-color);\n",
              "    border: none;\n",
              "    border-radius: 50%;\n",
              "    cursor: pointer;\n",
              "    display: none;\n",
              "    fill: var(--fill-color);\n",
              "    height: 32px;\n",
              "    padding: 0;\n",
              "    width: 32px;\n",
              "  }\n",
              "\n",
              "  .colab-df-quickchart:hover {\n",
              "    background-color: var(--hover-bg-color);\n",
              "    box-shadow: 0 1px 2px rgba(60, 64, 67, 0.3), 0 1px 3px 1px rgba(60, 64, 67, 0.15);\n",
              "    fill: var(--button-hover-fill-color);\n",
              "  }\n",
              "\n",
              "  .colab-df-quickchart-complete:disabled,\n",
              "  .colab-df-quickchart-complete:disabled:hover {\n",
              "    background-color: var(--disabled-bg-color);\n",
              "    fill: var(--disabled-fill-color);\n",
              "    box-shadow: none;\n",
              "  }\n",
              "\n",
              "  .colab-df-spinner {\n",
              "    border: 2px solid var(--fill-color);\n",
              "    border-color: transparent;\n",
              "    border-bottom-color: var(--fill-color);\n",
              "    animation:\n",
              "      spin 1s steps(1) infinite;\n",
              "  }\n",
              "\n",
              "  @keyframes spin {\n",
              "    0% {\n",
              "      border-color: transparent;\n",
              "      border-bottom-color: var(--fill-color);\n",
              "      border-left-color: var(--fill-color);\n",
              "    }\n",
              "    20% {\n",
              "      border-color: transparent;\n",
              "      border-left-color: var(--fill-color);\n",
              "      border-top-color: var(--fill-color);\n",
              "    }\n",
              "    30% {\n",
              "      border-color: transparent;\n",
              "      border-left-color: var(--fill-color);\n",
              "      border-top-color: var(--fill-color);\n",
              "      border-right-color: var(--fill-color);\n",
              "    }\n",
              "    40% {\n",
              "      border-color: transparent;\n",
              "      border-right-color: var(--fill-color);\n",
              "      border-top-color: var(--fill-color);\n",
              "    }\n",
              "    60% {\n",
              "      border-color: transparent;\n",
              "      border-right-color: var(--fill-color);\n",
              "    }\n",
              "    80% {\n",
              "      border-color: transparent;\n",
              "      border-right-color: var(--fill-color);\n",
              "      border-bottom-color: var(--fill-color);\n",
              "    }\n",
              "    90% {\n",
              "      border-color: transparent;\n",
              "      border-bottom-color: var(--fill-color);\n",
              "    }\n",
              "  }\n",
              "</style>\n",
              "\n",
              "  <script>\n",
              "    async function quickchart(key) {\n",
              "      const quickchartButtonEl =\n",
              "        document.querySelector('#' + key + ' button');\n",
              "      quickchartButtonEl.disabled = true;  // To prevent multiple clicks.\n",
              "      quickchartButtonEl.classList.add('colab-df-spinner');\n",
              "      try {\n",
              "        const charts = await google.colab.kernel.invokeFunction(\n",
              "            'suggestCharts', [key], {});\n",
              "      } catch (error) {\n",
              "        console.error('Error during call to suggestCharts:', error);\n",
              "      }\n",
              "      quickchartButtonEl.classList.remove('colab-df-spinner');\n",
              "      quickchartButtonEl.classList.add('colab-df-quickchart-complete');\n",
              "    }\n",
              "    (() => {\n",
              "      let quickchartButtonEl =\n",
              "        document.querySelector('#df-0ec130c7-989c-4d37-879d-2c0e6aa9616a button');\n",
              "      quickchartButtonEl.style.display =\n",
              "        google.colab.kernel.accessAllowed ? 'block' : 'none';\n",
              "    })();\n",
              "  </script>\n",
              "</div>\n",
              "\n",
              "    </div>\n",
              "  </div>\n"
            ],
            "application/vnd.google.colaboratory.intrinsic+json": {
              "type": "dataframe",
              "summary": "{\n  \"name\": \"data[cat_cols]\",\n  \"rows\": 599,\n  \"fields\": [\n    {\n      \"column\": \"Loan_ID\",\n      \"properties\": {\n        \"dtype\": \"string\",\n        \"num_unique_values\": 599,\n        \"samples\": [\n          \"LP001391\",\n          \"LP002377\",\n          \"LP002877\"\n        ],\n        \"semantic_type\": \"\",\n        \"description\": \"\"\n      }\n    },\n    {\n      \"column\": \"Gender\",\n      \"properties\": {\n        \"dtype\": \"category\",\n        \"num_unique_values\": 2,\n        \"samples\": [\n          \"Female\",\n          \"Male\"\n        ],\n        \"semantic_type\": \"\",\n        \"description\": \"\"\n      }\n    },\n    {\n      \"column\": \"Married\",\n      \"properties\": {\n        \"dtype\": \"category\",\n        \"num_unique_values\": 2,\n        \"samples\": [\n          \"Yes\",\n          \"No\"\n        ],\n        \"semantic_type\": \"\",\n        \"description\": \"\"\n      }\n    },\n    {\n      \"column\": \"Education\",\n      \"properties\": {\n        \"dtype\": \"category\",\n        \"num_unique_values\": 2,\n        \"samples\": [\n          \"Not Graduate\",\n          \"Graduate\"\n        ],\n        \"semantic_type\": \"\",\n        \"description\": \"\"\n      }\n    },\n    {\n      \"column\": \"Self_Employed\",\n      \"properties\": {\n        \"dtype\": \"category\",\n        \"num_unique_values\": 2,\n        \"samples\": [\n          \"Yes\",\n          \"No\"\n        ],\n        \"semantic_type\": \"\",\n        \"description\": \"\"\n      }\n    },\n    {\n      \"column\": \"Property_Area\",\n      \"properties\": {\n        \"dtype\": \"category\",\n        \"num_unique_values\": 3,\n        \"samples\": [\n          \"Urban\",\n          \"Rural\"\n        ],\n        \"semantic_type\": \"\",\n        \"description\": \"\"\n      }\n    },\n    {\n      \"column\": \"Loan_Status\",\n      \"properties\": {\n        \"dtype\": \"category\",\n        \"num_unique_values\": 2,\n        \"samples\": [\n          \"N\",\n          \"Y\"\n        ],\n        \"semantic_type\": \"\",\n        \"description\": \"\"\n      }\n    }\n  ]\n}"
            }
          },
          "metadata": {},
          "execution_count": 52
        }
      ]
    },
    {
      "cell_type": "code",
      "source": [
        "data['Gender'].unique()"
      ],
      "metadata": {
        "colab": {
          "base_uri": "https://localhost:8080/"
        },
        "id": "5-bcONkzeD10",
        "outputId": "43eea0db-0915-498f-ecc1-3be3f3006a43"
      },
      "execution_count": null,
      "outputs": [
        {
          "output_type": "execute_result",
          "data": {
            "text/plain": [
              "array(['Male', 'Female'], dtype=object)"
            ]
          },
          "metadata": {},
          "execution_count": 53
        }
      ]
    },
    {
      "cell_type": "code",
      "source": [
        "dict1 = {'Male':0,'Female':1}"
      ],
      "metadata": {
        "id": "sFCO9T2ceHok"
      },
      "execution_count": null,
      "outputs": []
    },
    {
      "cell_type": "code",
      "source": [
        "data['Gender'] = data['Gender'].map(dict1)\n"
      ],
      "metadata": {
        "id": "Fc0B_Nt3eLxs"
      },
      "execution_count": null,
      "outputs": []
    },
    {
      "cell_type": "code",
      "source": [
        "data.dtypes"
      ],
      "metadata": {
        "colab": {
          "base_uri": "https://localhost:8080/"
        },
        "id": "P1DZWB0qeRB5",
        "outputId": "469568b6-27b9-4fce-9344-a830738bf7e0"
      },
      "execution_count": null,
      "outputs": [
        {
          "output_type": "execute_result",
          "data": {
            "text/plain": [
              "Loan_ID               object\n",
              "Gender                 int64\n",
              "Married               object\n",
              "Dependents           float64\n",
              "Education             object\n",
              "Self_Employed         object\n",
              "ApplicantIncome        int64\n",
              "CoapplicantIncome    float64\n",
              "LoanAmount           float64\n",
              "Loan_Amount_Term     float64\n",
              "Credit_History       float64\n",
              "Property_Area         object\n",
              "Loan_Status           object\n",
              "dtype: object"
            ]
          },
          "metadata": {},
          "execution_count": 56
        }
      ]
    },
    {
      "cell_type": "code",
      "source": [
        "data['Married'].unique()"
      ],
      "metadata": {
        "colab": {
          "base_uri": "https://localhost:8080/"
        },
        "id": "26_QrHOSeTx0",
        "outputId": "af675030-e4e9-4693-c98b-e67ecc191758"
      },
      "execution_count": null,
      "outputs": [
        {
          "output_type": "execute_result",
          "data": {
            "text/plain": [
              "array(['No', 'Yes'], dtype=object)"
            ]
          },
          "metadata": {},
          "execution_count": 57
        }
      ]
    },
    {
      "cell_type": "code",
      "source": [
        "dict2 = {'yes':0,'No':1}"
      ],
      "metadata": {
        "id": "GfrNG8aLeaKr"
      },
      "execution_count": null,
      "outputs": []
    },
    {
      "cell_type": "code",
      "source": [
        "data['Married'] = data['Married'].map(dict2)"
      ],
      "metadata": {
        "id": "xt0vEjt4edAc"
      },
      "execution_count": null,
      "outputs": []
    },
    {
      "cell_type": "code",
      "source": [
        "data.dtypes"
      ],
      "metadata": {
        "colab": {
          "base_uri": "https://localhost:8080/"
        },
        "id": "uVLkrenrej7L",
        "outputId": "ded2abe5-63be-4632-ab00-7fc019a3018e"
      },
      "execution_count": null,
      "outputs": [
        {
          "output_type": "execute_result",
          "data": {
            "text/plain": [
              "Loan_ID               object\n",
              "Gender                 int64\n",
              "Married              float64\n",
              "Dependents           float64\n",
              "Education             object\n",
              "Self_Employed         object\n",
              "ApplicantIncome        int64\n",
              "CoapplicantIncome    float64\n",
              "LoanAmount           float64\n",
              "Loan_Amount_Term     float64\n",
              "Credit_History       float64\n",
              "Property_Area         object\n",
              "Loan_Status           object\n",
              "dtype: object"
            ]
          },
          "metadata": {},
          "execution_count": 60
        }
      ]
    },
    {
      "cell_type": "code",
      "source": [
        "data['Education'].unique()"
      ],
      "metadata": {
        "colab": {
          "base_uri": "https://localhost:8080/"
        },
        "id": "cAHpVaC6enMy",
        "outputId": "6829423e-6d90-47f5-cfb6-ce88057862f8"
      },
      "execution_count": null,
      "outputs": [
        {
          "output_type": "execute_result",
          "data": {
            "text/plain": [
              "array(['Graduate', 'Not Graduate'], dtype=object)"
            ]
          },
          "metadata": {},
          "execution_count": 61
        }
      ]
    },
    {
      "cell_type": "code",
      "source": [
        "dict3 = {'Graduate':0,'Not Graduate':1}"
      ],
      "metadata": {
        "id": "2AqO9oc-er5W"
      },
      "execution_count": null,
      "outputs": []
    },
    {
      "cell_type": "code",
      "source": [
        "data['Education'] = data['Education'].map(dict3)"
      ],
      "metadata": {
        "id": "rjQuK_HAeu_L"
      },
      "execution_count": null,
      "outputs": []
    },
    {
      "cell_type": "code",
      "source": [
        "data.dtypes"
      ],
      "metadata": {
        "colab": {
          "base_uri": "https://localhost:8080/"
        },
        "id": "MkyxGJNSeyd6",
        "outputId": "73e9b9a3-030c-4304-845d-b0851483d6e3"
      },
      "execution_count": null,
      "outputs": [
        {
          "output_type": "execute_result",
          "data": {
            "text/plain": [
              "Loan_ID               object\n",
              "Gender                 int64\n",
              "Married              float64\n",
              "Dependents           float64\n",
              "Education              int64\n",
              "Self_Employed         object\n",
              "ApplicantIncome        int64\n",
              "CoapplicantIncome    float64\n",
              "LoanAmount           float64\n",
              "Loan_Amount_Term     float64\n",
              "Credit_History       float64\n",
              "Property_Area         object\n",
              "Loan_Status           object\n",
              "dtype: object"
            ]
          },
          "metadata": {},
          "execution_count": 64
        }
      ]
    },
    {
      "cell_type": "code",
      "source": [
        "data['Self_Employed'].unique()"
      ],
      "metadata": {
        "colab": {
          "base_uri": "https://localhost:8080/"
        },
        "id": "-FIiEStMe0GJ",
        "outputId": "567140c0-3aa9-45a4-c49f-bbbb63c2be23"
      },
      "execution_count": null,
      "outputs": [
        {
          "output_type": "execute_result",
          "data": {
            "text/plain": [
              "array(['No', 'Yes'], dtype=object)"
            ]
          },
          "metadata": {},
          "execution_count": 65
        }
      ]
    },
    {
      "cell_type": "code",
      "source": [
        "dict4 = {'No':0,'Yes':1}"
      ],
      "metadata": {
        "id": "ouazEu90e4KE"
      },
      "execution_count": null,
      "outputs": []
    },
    {
      "cell_type": "code",
      "source": [
        "data['Self_Employed'] = data['Self_Employed'].map(dict4)"
      ],
      "metadata": {
        "id": "GdbSpzXre7UZ"
      },
      "execution_count": null,
      "outputs": []
    },
    {
      "cell_type": "code",
      "source": [
        "data.dtypes"
      ],
      "metadata": {
        "colab": {
          "base_uri": "https://localhost:8080/"
        },
        "id": "5iEQkzoCfDxQ",
        "outputId": "f9dc2ef8-0a7e-4b12-ccda-5586e6135017"
      },
      "execution_count": null,
      "outputs": [
        {
          "output_type": "execute_result",
          "data": {
            "text/plain": [
              "Loan_ID               object\n",
              "Gender                 int64\n",
              "Married              float64\n",
              "Dependents           float64\n",
              "Education              int64\n",
              "Self_Employed          int64\n",
              "ApplicantIncome        int64\n",
              "CoapplicantIncome    float64\n",
              "LoanAmount           float64\n",
              "Loan_Amount_Term     float64\n",
              "Credit_History       float64\n",
              "Property_Area         object\n",
              "Loan_Status           object\n",
              "dtype: object"
            ]
          },
          "metadata": {},
          "execution_count": 68
        }
      ]
    },
    {
      "cell_type": "code",
      "source": [
        "data['Property_Area'].unique()"
      ],
      "metadata": {
        "colab": {
          "base_uri": "https://localhost:8080/"
        },
        "id": "USicGP3jfHU1",
        "outputId": "c3314959-0220-4d0c-e24c-9d379c543cf0"
      },
      "execution_count": null,
      "outputs": [
        {
          "output_type": "execute_result",
          "data": {
            "text/plain": [
              "array(['Urban', 'Rural', 'Semiurban'], dtype=object)"
            ]
          },
          "metadata": {},
          "execution_count": 69
        }
      ]
    },
    {
      "cell_type": "code",
      "source": [
        "dict5 = {'Urban':0,'Rural':1,'Semiurban':2}"
      ],
      "metadata": {
        "id": "hc-o5sPBfMN8"
      },
      "execution_count": null,
      "outputs": []
    },
    {
      "cell_type": "code",
      "source": [
        "data['Property_Area'] = data['Property_Area'].map(dict5)"
      ],
      "metadata": {
        "id": "lPRJffSafPHm"
      },
      "execution_count": null,
      "outputs": []
    },
    {
      "cell_type": "code",
      "source": [
        "data.dtypes\n"
      ],
      "metadata": {
        "colab": {
          "base_uri": "https://localhost:8080/"
        },
        "id": "QfmyaIJzfSFQ",
        "outputId": "b379eca8-3704-493b-e21c-37d903a805a9"
      },
      "execution_count": null,
      "outputs": [
        {
          "output_type": "execute_result",
          "data": {
            "text/plain": [
              "Loan_ID               object\n",
              "Gender                 int64\n",
              "Married              float64\n",
              "Dependents           float64\n",
              "Education              int64\n",
              "Self_Employed          int64\n",
              "ApplicantIncome        int64\n",
              "CoapplicantIncome    float64\n",
              "LoanAmount           float64\n",
              "Loan_Amount_Term     float64\n",
              "Credit_History       float64\n",
              "Property_Area          int64\n",
              "Loan_Status           object\n",
              "dtype: object"
            ]
          },
          "metadata": {},
          "execution_count": 72
        }
      ]
    },
    {
      "cell_type": "code",
      "source": [
        "data['Loan_Status'].unique()"
      ],
      "metadata": {
        "colab": {
          "base_uri": "https://localhost:8080/"
        },
        "id": "5m960Jq3fWOz",
        "outputId": "6b19e286-daa0-4439-ca70-f0e1b25251f7"
      },
      "execution_count": null,
      "outputs": [
        {
          "output_type": "execute_result",
          "data": {
            "text/plain": [
              "array(['Y', 'N'], dtype=object)"
            ]
          },
          "metadata": {},
          "execution_count": 73
        }
      ]
    },
    {
      "cell_type": "code",
      "source": [
        "dict6 = {'Y':0,'N':1}\n"
      ],
      "metadata": {
        "id": "45HI0SYMffFo"
      },
      "execution_count": null,
      "outputs": []
    },
    {
      "cell_type": "code",
      "source": [
        "data['Loan_Status'] = data['Loan_Status'].map(dict6)\n"
      ],
      "metadata": {
        "id": "OLsk8e8_fjb-"
      },
      "execution_count": null,
      "outputs": []
    },
    {
      "cell_type": "code",
      "source": [
        "data.dtypes"
      ],
      "metadata": {
        "colab": {
          "base_uri": "https://localhost:8080/"
        },
        "id": "TiVsCuJefqIs",
        "outputId": "b9994ee9-379a-4109-e716-c3e13020e1a9"
      },
      "execution_count": null,
      "outputs": [
        {
          "output_type": "execute_result",
          "data": {
            "text/plain": [
              "Loan_ID               object\n",
              "Gender                 int64\n",
              "Married              float64\n",
              "Dependents           float64\n",
              "Education              int64\n",
              "Self_Employed          int64\n",
              "ApplicantIncome        int64\n",
              "CoapplicantIncome    float64\n",
              "LoanAmount           float64\n",
              "Loan_Amount_Term     float64\n",
              "Credit_History       float64\n",
              "Property_Area          int64\n",
              "Loan_Status            int64\n",
              "dtype: object"
            ]
          },
          "metadata": {},
          "execution_count": 77
        }
      ]
    },
    {
      "cell_type": "code",
      "source": [
        "data['Loan_ID'].unique()"
      ],
      "metadata": {
        "colab": {
          "base_uri": "https://localhost:8080/"
        },
        "id": "Xqtm2ceSftqc",
        "outputId": "32a966ea-3589-451b-ee20-6356c1209cae"
      },
      "execution_count": null,
      "outputs": [
        {
          "output_type": "execute_result",
          "data": {
            "text/plain": [
              "array(['LP001002', 'LP001003', 'LP001005', 'LP001006', 'LP001008',\n",
              "       'LP001011', 'LP001013', 'LP001014', 'LP001018', 'LP001020',\n",
              "       'LP001024', 'LP001027', 'LP001028', 'LP001029', 'LP001030',\n",
              "       'LP001032', 'LP001034', 'LP001036', 'LP001038', 'LP001041',\n",
              "       'LP001043', 'LP001046', 'LP001047', 'LP001050', 'LP001052',\n",
              "       'LP001066', 'LP001068', 'LP001073', 'LP001086', 'LP001087',\n",
              "       'LP001091', 'LP001095', 'LP001097', 'LP001098', 'LP001100',\n",
              "       'LP001106', 'LP001109', 'LP001112', 'LP001114', 'LP001116',\n",
              "       'LP001119', 'LP001120', 'LP001123', 'LP001131', 'LP001136',\n",
              "       'LP001137', 'LP001138', 'LP001144', 'LP001146', 'LP001151',\n",
              "       'LP001155', 'LP001157', 'LP001164', 'LP001179', 'LP001186',\n",
              "       'LP001194', 'LP001195', 'LP001197', 'LP001198', 'LP001199',\n",
              "       'LP001205', 'LP001206', 'LP001207', 'LP001213', 'LP001222',\n",
              "       'LP001225', 'LP001228', 'LP001233', 'LP001238', 'LP001241',\n",
              "       'LP001243', 'LP001245', 'LP001248', 'LP001250', 'LP001253',\n",
              "       'LP001255', 'LP001256', 'LP001259', 'LP001263', 'LP001264',\n",
              "       'LP001265', 'LP001266', 'LP001267', 'LP001273', 'LP001275',\n",
              "       'LP001279', 'LP001280', 'LP001282', 'LP001289', 'LP001310',\n",
              "       'LP001316', 'LP001318', 'LP001319', 'LP001322', 'LP001325',\n",
              "       'LP001326', 'LP001327', 'LP001333', 'LP001334', 'LP001343',\n",
              "       'LP001345', 'LP001349', 'LP001356', 'LP001367', 'LP001369',\n",
              "       'LP001370', 'LP001379', 'LP001384', 'LP001385', 'LP001387',\n",
              "       'LP001391', 'LP001392', 'LP001398', 'LP001401', 'LP001404',\n",
              "       'LP001405', 'LP001421', 'LP001422', 'LP001430', 'LP001431',\n",
              "       'LP001432', 'LP001439', 'LP001443', 'LP001448', 'LP001449',\n",
              "       'LP001451', 'LP001465', 'LP001469', 'LP001473', 'LP001478',\n",
              "       'LP001482', 'LP001487', 'LP001488', 'LP001489', 'LP001491',\n",
              "       'LP001492', 'LP001493', 'LP001497', 'LP001498', 'LP001504',\n",
              "       'LP001507', 'LP001508', 'LP001514', 'LP001516', 'LP001518',\n",
              "       'LP001519', 'LP001520', 'LP001528', 'LP001529', 'LP001531',\n",
              "       'LP001532', 'LP001535', 'LP001536', 'LP001541', 'LP001543',\n",
              "       'LP001546', 'LP001552', 'LP001560', 'LP001562', 'LP001565',\n",
              "       'LP001570', 'LP001572', 'LP001574', 'LP001577', 'LP001578',\n",
              "       'LP001579', 'LP001580', 'LP001581', 'LP001585', 'LP001586',\n",
              "       'LP001594', 'LP001603', 'LP001606', 'LP001608', 'LP001610',\n",
              "       'LP001616', 'LP001630', 'LP001633', 'LP001634', 'LP001636',\n",
              "       'LP001637', 'LP001639', 'LP001640', 'LP001641', 'LP001643',\n",
              "       'LP001644', 'LP001647', 'LP001653', 'LP001656', 'LP001657',\n",
              "       'LP001658', 'LP001664', 'LP001665', 'LP001666', 'LP001669',\n",
              "       'LP001671', 'LP001673', 'LP001674', 'LP001677', 'LP001682',\n",
              "       'LP001688', 'LP001691', 'LP001692', 'LP001693', 'LP001698',\n",
              "       'LP001699', 'LP001702', 'LP001708', 'LP001711', 'LP001713',\n",
              "       'LP001715', 'LP001716', 'LP001720', 'LP001722', 'LP001726',\n",
              "       'LP001732', 'LP001734', 'LP001736', 'LP001743', 'LP001744',\n",
              "       'LP001749', 'LP001750', 'LP001751', 'LP001758', 'LP001761',\n",
              "       'LP001765', 'LP001768', 'LP001770', 'LP001776', 'LP001778',\n",
              "       'LP001784', 'LP001786', 'LP001788', 'LP001790', 'LP001792',\n",
              "       'LP001798', 'LP001800', 'LP001806', 'LP001807', 'LP001811',\n",
              "       'LP001813', 'LP001814', 'LP001819', 'LP001824', 'LP001825',\n",
              "       'LP001835', 'LP001836', 'LP001841', 'LP001843', 'LP001844',\n",
              "       'LP001846', 'LP001849', 'LP001854', 'LP001859', 'LP001864',\n",
              "       'LP001865', 'LP001868', 'LP001870', 'LP001871', 'LP001872',\n",
              "       'LP001875', 'LP001877', 'LP001882', 'LP001883', 'LP001884',\n",
              "       'LP001888', 'LP001891', 'LP001892', 'LP001894', 'LP001896',\n",
              "       'LP001900', 'LP001903', 'LP001904', 'LP001907', 'LP001908',\n",
              "       'LP001910', 'LP001914', 'LP001915', 'LP001917', 'LP001922',\n",
              "       'LP001924', 'LP001925', 'LP001926', 'LP001931', 'LP001935',\n",
              "       'LP001936', 'LP001938', 'LP001940', 'LP001947', 'LP001949',\n",
              "       'LP001953', 'LP001954', 'LP001955', 'LP001963', 'LP001964',\n",
              "       'LP001974', 'LP001977', 'LP001978', 'LP001990', 'LP001993',\n",
              "       'LP001994', 'LP001996', 'LP001998', 'LP002002', 'LP002004',\n",
              "       'LP002006', 'LP002008', 'LP002024', 'LP002031', 'LP002035',\n",
              "       'LP002036', 'LP002043', 'LP002050', 'LP002051', 'LP002053',\n",
              "       'LP002054', 'LP002055', 'LP002065', 'LP002067', 'LP002068',\n",
              "       'LP002082', 'LP002086', 'LP002087', 'LP002097', 'LP002098',\n",
              "       'LP002101', 'LP002103', 'LP002110', 'LP002112', 'LP002113',\n",
              "       'LP002114', 'LP002115', 'LP002116', 'LP002119', 'LP002126',\n",
              "       'LP002128', 'LP002129', 'LP002131', 'LP002137', 'LP002138',\n",
              "       'LP002139', 'LP002140', 'LP002141', 'LP002142', 'LP002143',\n",
              "       'LP002149', 'LP002151', 'LP002158', 'LP002160', 'LP002161',\n",
              "       'LP002170', 'LP002175', 'LP002178', 'LP002180', 'LP002181',\n",
              "       'LP002187', 'LP002188', 'LP002190', 'LP002191', 'LP002194',\n",
              "       'LP002197', 'LP002201', 'LP002205', 'LP002209', 'LP002211',\n",
              "       'LP002219', 'LP002223', 'LP002224', 'LP002225', 'LP002226',\n",
              "       'LP002229', 'LP002231', 'LP002234', 'LP002236', 'LP002237',\n",
              "       'LP002239', 'LP002243', 'LP002244', 'LP002250', 'LP002255',\n",
              "       'LP002262', 'LP002263', 'LP002265', 'LP002266', 'LP002272',\n",
              "       'LP002277', 'LP002281', 'LP002284', 'LP002287', 'LP002288',\n",
              "       'LP002296', 'LP002297', 'LP002300', 'LP002301', 'LP002305',\n",
              "       'LP002308', 'LP002314', 'LP002315', 'LP002317', 'LP002318',\n",
              "       'LP002319', 'LP002328', 'LP002332', 'LP002335', 'LP002337',\n",
              "       'LP002341', 'LP002342', 'LP002345', 'LP002347', 'LP002348',\n",
              "       'LP002357', 'LP002361', 'LP002362', 'LP002364', 'LP002366',\n",
              "       'LP002367', 'LP002368', 'LP002369', 'LP002370', 'LP002377',\n",
              "       'LP002379', 'LP002386', 'LP002387', 'LP002390', 'LP002398',\n",
              "       'LP002401', 'LP002403', 'LP002407', 'LP002408', 'LP002409',\n",
              "       'LP002418', 'LP002422', 'LP002424', 'LP002429', 'LP002434',\n",
              "       'LP002435', 'LP002443', 'LP002444', 'LP002446', 'LP002447',\n",
              "       'LP002448', 'LP002449', 'LP002453', 'LP002455', 'LP002459',\n",
              "       'LP002467', 'LP002472', 'LP002473', 'LP002478', 'LP002484',\n",
              "       'LP002487', 'LP002489', 'LP002493', 'LP002494', 'LP002500',\n",
              "       'LP002501', 'LP002502', 'LP002505', 'LP002515', 'LP002517',\n",
              "       'LP002519', 'LP002522', 'LP002524', 'LP002527', 'LP002529',\n",
              "       'LP002530', 'LP002531', 'LP002533', 'LP002534', 'LP002536',\n",
              "       'LP002537', 'LP002541', 'LP002543', 'LP002544', 'LP002545',\n",
              "       'LP002547', 'LP002555', 'LP002556', 'LP002560', 'LP002562',\n",
              "       'LP002571', 'LP002582', 'LP002585', 'LP002586', 'LP002587',\n",
              "       'LP002588', 'LP002600', 'LP002602', 'LP002603', 'LP002606',\n",
              "       'LP002615', 'LP002618', 'LP002619', 'LP002622', 'LP002624',\n",
              "       'LP002625', 'LP002626', 'LP002634', 'LP002637', 'LP002640',\n",
              "       'LP002643', 'LP002648', 'LP002652', 'LP002659', 'LP002670',\n",
              "       'LP002683', 'LP002684', 'LP002689', 'LP002690', 'LP002692',\n",
              "       'LP002693', 'LP002697', 'LP002699', 'LP002705', 'LP002706',\n",
              "       'LP002714', 'LP002716', 'LP002717', 'LP002720', 'LP002723',\n",
              "       'LP002729', 'LP002731', 'LP002732', 'LP002734', 'LP002738',\n",
              "       'LP002739', 'LP002740', 'LP002741', 'LP002743', 'LP002753',\n",
              "       'LP002755', 'LP002757', 'LP002767', 'LP002768', 'LP002772',\n",
              "       'LP002776', 'LP002777', 'LP002778', 'LP002784', 'LP002785',\n",
              "       'LP002788', 'LP002789', 'LP002792', 'LP002794', 'LP002795',\n",
              "       'LP002798', 'LP002804', 'LP002807', 'LP002813', 'LP002820',\n",
              "       'LP002821', 'LP002832', 'LP002833', 'LP002836', 'LP002837',\n",
              "       'LP002840', 'LP002841', 'LP002842', 'LP002855', 'LP002862',\n",
              "       'LP002863', 'LP002868', 'LP002872', 'LP002874', 'LP002877',\n",
              "       'LP002888', 'LP002892', 'LP002893', 'LP002894', 'LP002898',\n",
              "       'LP002911', 'LP002912', 'LP002916', 'LP002917', 'LP002925',\n",
              "       'LP002926', 'LP002928', 'LP002931', 'LP002933', 'LP002936',\n",
              "       'LP002938', 'LP002940', 'LP002941', 'LP002945', 'LP002948',\n",
              "       'LP002949', 'LP002950', 'LP002953', 'LP002958', 'LP002959',\n",
              "       'LP002960', 'LP002961', 'LP002964', 'LP002974', 'LP002978',\n",
              "       'LP002979', 'LP002983', 'LP002984', 'LP002990'], dtype=object)"
            ]
          },
          "metadata": {},
          "execution_count": 78
        }
      ]
    },
    {
      "cell_type": "code",
      "source": [
        "from sklearn.preprocessing import LabelEncoder\n",
        "\n"
      ],
      "metadata": {
        "id": "dPSIX5nef7ur"
      },
      "execution_count": null,
      "outputs": []
    },
    {
      "cell_type": "code",
      "source": [
        "array = ['LP001002', 'LP001003', 'LP001005', 'LP001006', 'LP001008',\n",
        "       'LP001011', 'LP001013', 'LP001014', 'LP001018', 'LP001020',\n",
        "       'LP001024', 'LP001027', 'LP001028', 'LP001029', 'LP001030',\n",
        "       'LP001032', 'LP001034', 'LP001036', 'LP001038', 'LP001041',\n",
        "       'LP001043', 'LP001046', 'LP001047', 'LP001050', 'LP001052',\n",
        "       'LP001066', 'LP001068', 'LP001073', 'LP001086', 'LP001087',\n",
        "       'LP001091', 'LP001095', 'LP001097', 'LP001098', 'LP001100',\n",
        "       'LP001106', 'LP001109', 'LP001112', 'LP001114', 'LP001116',\n",
        "       'LP001119', 'LP001120', 'LP001123', 'LP001131', 'LP001136',\n",
        "       'LP001137', 'LP001138', 'LP001144', 'LP001146', 'LP001151',\n",
        "       'LP001155', 'LP001157', 'LP001164', 'LP001179', 'LP001186',\n",
        "       'LP001194', 'LP001195', 'LP001197', 'LP001198', 'LP001199',\n",
        "       'LP001205', 'LP001206', 'LP001207', 'LP001213', 'LP001222',\n",
        "       'LP001225', 'LP001228', 'LP001233', 'LP001238', 'LP001241',\n",
        "       'LP001243', 'LP001245', 'LP001248', 'LP001250', 'LP001253',\n",
        "       'LP001255', 'LP001256', 'LP001259', 'LP001263', 'LP001264',\n",
        "       'LP001265', 'LP001266', 'LP001267', 'LP001273', 'LP001275',\n",
        "       'LP001279', 'LP001280', 'LP001282', 'LP001289', 'LP001310',\n",
        "       'LP001316', 'LP001318', 'LP001319', 'LP001322', 'LP001325',\n",
        "       'LP001326', 'LP001327', 'LP001333', 'LP001334', 'LP001343',\n",
        "       'LP001345', 'LP001349', 'LP001356', 'LP001367', 'LP001369',\n",
        "       'LP001370', 'LP001379', 'LP001384', 'LP001385', 'LP001387',\n",
        "       'LP001391', 'LP001392', 'LP001398', 'LP001401', 'LP001404',\n",
        "       'LP001405', 'LP001421', 'LP001422', 'LP001430', 'LP001431',\n",
        "       'LP001432', 'LP001439', 'LP001443', 'LP001448', 'LP001449',\n",
        "       'LP001451', 'LP001465', 'LP001469', 'LP001473', 'LP001478',\n",
        "       'LP001482', 'LP001487', 'LP001488', 'LP001489', 'LP001491',\n",
        "       'LP001492', 'LP001493', 'LP001497', 'LP001498', 'LP001504',\n",
        "       'LP001507', 'LP001508', 'LP001514', 'LP001516', 'LP001518',\n",
        "       'LP001519', 'LP001520', 'LP001528', 'LP001529', 'LP001531',\n",
        "       'LP001532', 'LP001535', 'LP001536', 'LP001541', 'LP001543',\n",
        "       'LP001546', 'LP001552', 'LP001560', 'LP001562', 'LP001565',\n",
        "       'LP001570', 'LP001572', 'LP001574', 'LP001577', 'LP001578',\n",
        "       'LP001579', 'LP001580', 'LP001581', 'LP001585', 'LP001586',\n",
        "       'LP001594', 'LP001603', 'LP001606', 'LP001608', 'LP001610',\n",
        "       'LP001616', 'LP001630', 'LP001633', 'LP001634', 'LP001636',\n",
        "       'LP001637', 'LP001639', 'LP001640', 'LP001641', 'LP001643',\n",
        "       'LP001644', 'LP001647', 'LP001653', 'LP001656', 'LP001657',\n",
        "       'LP001658', 'LP001664', 'LP001665', 'LP001666', 'LP001669',\n",
        "       'LP001671', 'LP001673', 'LP001674', 'LP001677', 'LP001682',\n",
        "       'LP001688', 'LP001691', 'LP001692', 'LP001693', 'LP001698',\n",
        "       'LP001699', 'LP001702', 'LP001708', 'LP001711', 'LP001713',\n",
        "       'LP001715', 'LP001716', 'LP001720', 'LP001722', 'LP001726',\n",
        "       'LP001732', 'LP001734', 'LP001736', 'LP001743', 'LP001744',\n",
        "       'LP001749', 'LP001750', 'LP001751', 'LP001758', 'LP001761',\n",
        "       'LP001765', 'LP001768', 'LP001770', 'LP001776', 'LP001778',\n",
        "       'LP001784', 'LP001786', 'LP001788', 'LP001790', 'LP001792',\n",
        "       'LP001798', 'LP001800', 'LP001806', 'LP001807', 'LP001811',\n",
        "       'LP001813', 'LP001814', 'LP001819', 'LP001824', 'LP001825',\n",
        "       'LP001835', 'LP001836', 'LP001841', 'LP001843', 'LP001844',\n",
        "       'LP001846', 'LP001849', 'LP001854', 'LP001859', 'LP001864',\n",
        "       'LP001865', 'LP001868', 'LP001870', 'LP001871', 'LP001872',\n",
        "       'LP001875', 'LP001877', 'LP001882', 'LP001883', 'LP001884',\n",
        "       'LP001888', 'LP001891', 'LP001892', 'LP001894', 'LP001896',\n",
        "       'LP001900', 'LP001903', 'LP001904', 'LP001907', 'LP001908',\n",
        "       'LP001910', 'LP001914', 'LP001915', 'LP001917', 'LP001922',\n",
        "       'LP001924', 'LP001925', 'LP001926', 'LP001931', 'LP001935',\n",
        "       'LP001936', 'LP001938', 'LP001940', 'LP001947', 'LP001949',\n",
        "       'LP001953', 'LP001954', 'LP001955', 'LP001963', 'LP001964',\n",
        "       'LP001974', 'LP001977', 'LP001978', 'LP001990', 'LP001993',\n",
        "       'LP001994', 'LP001996', 'LP001998', 'LP002002', 'LP002004',\n",
        "       'LP002006', 'LP002008', 'LP002024', 'LP002031', 'LP002035',\n",
        "       'LP002036', 'LP002043', 'LP002050', 'LP002051', 'LP002053',\n",
        "       'LP002054', 'LP002055', 'LP002065', 'LP002067', 'LP002068',\n",
        "       'LP002082', 'LP002086', 'LP002087', 'LP002097', 'LP002098',\n",
        "       'LP002101', 'LP002103', 'LP002110', 'LP002112', 'LP002113',\n",
        "       'LP002114', 'LP002115', 'LP002116', 'LP002119', 'LP002126',\n",
        "       'LP002128', 'LP002129', 'LP002131', 'LP002137', 'LP002138',\n",
        "       'LP002139', 'LP002140', 'LP002141', 'LP002142', 'LP002143',\n",
        "       'LP002149', 'LP002151', 'LP002158', 'LP002160', 'LP002161',\n",
        "       'LP002170', 'LP002175', 'LP002178', 'LP002180', 'LP002181',\n",
        "       'LP002187', 'LP002188', 'LP002190', 'LP002191', 'LP002194',\n",
        "       'LP002197', 'LP002201', 'LP002205', 'LP002209', 'LP002211',\n",
        "       'LP002219', 'LP002223', 'LP002224', 'LP002225', 'LP002226',\n",
        "       'LP002229', 'LP002231', 'LP002234', 'LP002236', 'LP002237',\n",
        "       'LP002239', 'LP002243', 'LP002244', 'LP002250', 'LP002255',\n",
        "       'LP002262', 'LP002263', 'LP002265', 'LP002266', 'LP002272',\n",
        "       'LP002277', 'LP002281', 'LP002284', 'LP002287', 'LP002288',\n",
        "       'LP002296', 'LP002297', 'LP002300', 'LP002301', 'LP002305',\n",
        "       'LP002308', 'LP002314', 'LP002315', 'LP002317', 'LP002318',\n",
        "       'LP002319', 'LP002328', 'LP002332', 'LP002335', 'LP002337',\n",
        "       'LP002341', 'LP002342', 'LP002345', 'LP002347', 'LP002348',\n",
        "       'LP002357', 'LP002361', 'LP002362', 'LP002364', 'LP002366',\n",
        "       'LP002367', 'LP002368', 'LP002369', 'LP002370', 'LP002377',\n",
        "       'LP002379', 'LP002386', 'LP002387', 'LP002390', 'LP002398',\n",
        "       'LP002401', 'LP002403', 'LP002407', 'LP002408', 'LP002409',\n",
        "       'LP002418', 'LP002422', 'LP002424', 'LP002429', 'LP002434',\n",
        "       'LP002435', 'LP002443', 'LP002444', 'LP002446', 'LP002447',\n",
        "       'LP002448', 'LP002449', 'LP002453', 'LP002455', 'LP002459',\n",
        "       'LP002467', 'LP002472', 'LP002473', 'LP002478', 'LP002484',\n",
        "       'LP002487', 'LP002489', 'LP002493', 'LP002494', 'LP002500',\n",
        "       'LP002501', 'LP002502', 'LP002505', 'LP002515', 'LP002517',\n",
        "       'LP002519', 'LP002522', 'LP002524', 'LP002527', 'LP002529',\n",
        "       'LP002530', 'LP002531', 'LP002533', 'LP002534', 'LP002536',\n",
        "       'LP002537', 'LP002541', 'LP002543', 'LP002544', 'LP002545',\n",
        "       'LP002547', 'LP002555', 'LP002556', 'LP002560', 'LP002562',\n",
        "       'LP002571', 'LP002582', 'LP002585', 'LP002586', 'LP002587',\n",
        "       'LP002588', 'LP002600', 'LP002602', 'LP002603', 'LP002606',\n",
        "       'LP002615', 'LP002618', 'LP002619', 'LP002622', 'LP002624',\n",
        "       'LP002625', 'LP002626', 'LP002634', 'LP002637', 'LP002640',\n",
        "       'LP002643', 'LP002648', 'LP002652', 'LP002659', 'LP002670',\n",
        "       'LP002683', 'LP002684', 'LP002689', 'LP002690', 'LP002692',\n",
        "       'LP002693', 'LP002697', 'LP002699', 'LP002705', 'LP002706',\n",
        "       'LP002714', 'LP002716', 'LP002717', 'LP002720', 'LP002723',\n",
        "       'LP002729', 'LP002731', 'LP002732', 'LP002734', 'LP002738',\n",
        "       'LP002739', 'LP002740', 'LP002741', 'LP002743', 'LP002753',\n",
        "       'LP002755', 'LP002757', 'LP002767', 'LP002768', 'LP002772',\n",
        "       'LP002776', 'LP002777', 'LP002778', 'LP002784', 'LP002785',\n",
        "       'LP002788', 'LP002789', 'LP002792', 'LP002794', 'LP002795',\n",
        "       'LP002798', 'LP002804', 'LP002807', 'LP002813', 'LP002820',\n",
        "       'LP002821', 'LP002832', 'LP002833', 'LP002836', 'LP002837',\n",
        "       'LP002840', 'LP002841', 'LP002842', 'LP002855', 'LP002862',\n",
        "       'LP002863', 'LP002868', 'LP002872', 'LP002874', 'LP002877',\n",
        "       'LP002888', 'LP002892', 'LP002893', 'LP002894', 'LP002898',\n",
        "       'LP002911', 'LP002912', 'LP002916', 'LP002917', 'LP002925',\n",
        "       'LP002926', 'LP002928', 'LP002931', 'LP002933', 'LP002936',\n",
        "       'LP002938', 'LP002940', 'LP002941', 'LP002945', 'LP002948',\n",
        "       'LP002949', 'LP002950', 'LP002953', 'LP002958', 'LP002959',\n",
        "       'LP002960', 'LP002961', 'LP002964', 'LP002974', 'LP002978',\n",
        "       'LP002979', 'LP002983', 'LP002984', 'LP002990']\n"
      ],
      "metadata": {
        "id": "nKbUH6mlhUNJ"
      },
      "execution_count": null,
      "outputs": []
    },
    {
      "cell_type": "code",
      "source": [
        "label_encoder = LabelEncoder()"
      ],
      "metadata": {
        "id": "4LEuC8_Qhlei"
      },
      "execution_count": null,
      "outputs": []
    },
    {
      "cell_type": "code",
      "source": [
        "encoded_array = label_encoder.fit_transform(array)"
      ],
      "metadata": {
        "id": "THBwxVfxhykg"
      },
      "execution_count": null,
      "outputs": []
    },
    {
      "cell_type": "code",
      "source": [
        "print(encoded_array)"
      ],
      "metadata": {
        "colab": {
          "base_uri": "https://localhost:8080/"
        },
        "id": "Jtt7IpMch3Zi",
        "outputId": "271ca152-4091-481e-8d0b-67703d17e805"
      },
      "execution_count": null,
      "outputs": [
        {
          "output_type": "stream",
          "name": "stdout",
          "text": [
            "[  0   1   2   3   4   5   6   7   8   9  10  11  12  13  14  15  16  17\n",
            "  18  19  20  21  22  23  24  25  26  27  28  29  30  31  32  33  34  35\n",
            "  36  37  38  39  40  41  42  43  44  45  46  47  48  49  50  51  52  53\n",
            "  54  55  56  57  58  59  60  61  62  63  64  65  66  67  68  69  70  71\n",
            "  72  73  74  75  76  77  78  79  80  81  82  83  84  85  86  87  88  89\n",
            "  90  91  92  93  94  95  96  97  98  99 100 101 102 103 104 105 106 107\n",
            " 108 109 110 111 112 113 114 115 116 117 118 119 120 121 122 123 124 125\n",
            " 126 127 128 129 130 131 132 133 134 135 136 137 138 139 140 141 142 143\n",
            " 144 145 146 147 148 149 150 151 152 153 154 155 156 157 158 159 160 161\n",
            " 162 163 164 165 166 167 168 169 170 171 172 173 174 175 176 177 178 179\n",
            " 180 181 182 183 184 185 186 187 188 189 190 191 192 193 194 195 196 197\n",
            " 198 199 200 201 202 203 204 205 206 207 208 209 210 211 212 213 214 215\n",
            " 216 217 218 219 220 221 222 223 224 225 226 227 228 229 230 231 232 233\n",
            " 234 235 236 237 238 239 240 241 242 243 244 245 246 247 248 249 250 251\n",
            " 252 253 254 255 256 257 258 259 260 261 262 263 264 265 266 267 268 269\n",
            " 270 271 272 273 274 275 276 277 278 279 280 281 282 283 284 285 286 287\n",
            " 288 289 290 291 292 293 294 295 296 297 298 299 300 301 302 303 304 305\n",
            " 306 307 308 309 310 311 312 313 314 315 316 317 318 319 320 321 322 323\n",
            " 324 325 326 327 328 329 330 331 332 333 334 335 336 337 338 339 340 341\n",
            " 342 343 344 345 346 347 348 349 350 351 352 353 354 355 356 357 358 359\n",
            " 360 361 362 363 364 365 366 367 368 369 370 371 372 373 374 375 376 377\n",
            " 378 379 380 381 382 383 384 385 386 387 388 389 390 391 392 393 394 395\n",
            " 396 397 398 399 400 401 402 403 404 405 406 407 408 409 410 411 412 413\n",
            " 414 415 416 417 418 419 420 421 422 423 424 425 426 427 428 429 430 431\n",
            " 432 433 434 435 436 437 438 439 440 441 442 443 444 445 446 447 448 449\n",
            " 450 451 452 453 454 455 456 457 458 459 460 461 462 463 464 465 466 467\n",
            " 468 469 470 471 472 473 474 475 476 477 478 479 480 481 482 483 484 485\n",
            " 486 487 488 489 490 491 492 493 494 495 496 497 498 499 500 501 502 503\n",
            " 504 505 506 507 508 509 510 511 512 513 514 515 516 517 518 519 520 521\n",
            " 522 523 524 525 526 527 528 529 530 531 532 533 534 535 536 537 538 539\n",
            " 540 541 542 543 544 545 546 547 548 549 550 551 552 553 554 555 556 557\n",
            " 558 559 560 561 562 563 564 565 566 567 568 569 570 571 572 573 574 575\n",
            " 576 577 578 579 580 581 582 583 584 585 586 587 588 589 590 591 592 593\n",
            " 594 595 596 597 598]\n"
          ]
        }
      ]
    },
    {
      "cell_type": "code",
      "source": [
        "loan_id_to_encoded = dict(zip(array, encoded_array))\n"
      ],
      "metadata": {
        "id": "tKQZJQG8h6Zv"
      },
      "execution_count": null,
      "outputs": []
    },
    {
      "cell_type": "code",
      "source": [
        "# Print the loan ID and its corresponding encoded value\n",
        "for loan_id, encoded_value in loan_id_to_encoded.items():\n",
        "    print(f\"Loan ID: {loan_id}, Encoded Value: {encoded_value}\")"
      ],
      "metadata": {
        "colab": {
          "base_uri": "https://localhost:8080/"
        },
        "id": "pbtZgfL4iGUL",
        "outputId": "f2e63bf0-7fc1-4164-83a0-d9388874cc56"
      },
      "execution_count": null,
      "outputs": [
        {
          "output_type": "stream",
          "name": "stdout",
          "text": [
            "Loan ID: LP001002, Encoded Value: 0\n",
            "Loan ID: LP001003, Encoded Value: 1\n",
            "Loan ID: LP001005, Encoded Value: 2\n",
            "Loan ID: LP001006, Encoded Value: 3\n",
            "Loan ID: LP001008, Encoded Value: 4\n",
            "Loan ID: LP001011, Encoded Value: 5\n",
            "Loan ID: LP001013, Encoded Value: 6\n",
            "Loan ID: LP001014, Encoded Value: 7\n",
            "Loan ID: LP001018, Encoded Value: 8\n",
            "Loan ID: LP001020, Encoded Value: 9\n",
            "Loan ID: LP001024, Encoded Value: 10\n",
            "Loan ID: LP001027, Encoded Value: 11\n",
            "Loan ID: LP001028, Encoded Value: 12\n",
            "Loan ID: LP001029, Encoded Value: 13\n",
            "Loan ID: LP001030, Encoded Value: 14\n",
            "Loan ID: LP001032, Encoded Value: 15\n",
            "Loan ID: LP001034, Encoded Value: 16\n",
            "Loan ID: LP001036, Encoded Value: 17\n",
            "Loan ID: LP001038, Encoded Value: 18\n",
            "Loan ID: LP001041, Encoded Value: 19\n",
            "Loan ID: LP001043, Encoded Value: 20\n",
            "Loan ID: LP001046, Encoded Value: 21\n",
            "Loan ID: LP001047, Encoded Value: 22\n",
            "Loan ID: LP001050, Encoded Value: 23\n",
            "Loan ID: LP001052, Encoded Value: 24\n",
            "Loan ID: LP001066, Encoded Value: 25\n",
            "Loan ID: LP001068, Encoded Value: 26\n",
            "Loan ID: LP001073, Encoded Value: 27\n",
            "Loan ID: LP001086, Encoded Value: 28\n",
            "Loan ID: LP001087, Encoded Value: 29\n",
            "Loan ID: LP001091, Encoded Value: 30\n",
            "Loan ID: LP001095, Encoded Value: 31\n",
            "Loan ID: LP001097, Encoded Value: 32\n",
            "Loan ID: LP001098, Encoded Value: 33\n",
            "Loan ID: LP001100, Encoded Value: 34\n",
            "Loan ID: LP001106, Encoded Value: 35\n",
            "Loan ID: LP001109, Encoded Value: 36\n",
            "Loan ID: LP001112, Encoded Value: 37\n",
            "Loan ID: LP001114, Encoded Value: 38\n",
            "Loan ID: LP001116, Encoded Value: 39\n",
            "Loan ID: LP001119, Encoded Value: 40\n",
            "Loan ID: LP001120, Encoded Value: 41\n",
            "Loan ID: LP001123, Encoded Value: 42\n",
            "Loan ID: LP001131, Encoded Value: 43\n",
            "Loan ID: LP001136, Encoded Value: 44\n",
            "Loan ID: LP001137, Encoded Value: 45\n",
            "Loan ID: LP001138, Encoded Value: 46\n",
            "Loan ID: LP001144, Encoded Value: 47\n",
            "Loan ID: LP001146, Encoded Value: 48\n",
            "Loan ID: LP001151, Encoded Value: 49\n",
            "Loan ID: LP001155, Encoded Value: 50\n",
            "Loan ID: LP001157, Encoded Value: 51\n",
            "Loan ID: LP001164, Encoded Value: 52\n",
            "Loan ID: LP001179, Encoded Value: 53\n",
            "Loan ID: LP001186, Encoded Value: 54\n",
            "Loan ID: LP001194, Encoded Value: 55\n",
            "Loan ID: LP001195, Encoded Value: 56\n",
            "Loan ID: LP001197, Encoded Value: 57\n",
            "Loan ID: LP001198, Encoded Value: 58\n",
            "Loan ID: LP001199, Encoded Value: 59\n",
            "Loan ID: LP001205, Encoded Value: 60\n",
            "Loan ID: LP001206, Encoded Value: 61\n",
            "Loan ID: LP001207, Encoded Value: 62\n",
            "Loan ID: LP001213, Encoded Value: 63\n",
            "Loan ID: LP001222, Encoded Value: 64\n",
            "Loan ID: LP001225, Encoded Value: 65\n",
            "Loan ID: LP001228, Encoded Value: 66\n",
            "Loan ID: LP001233, Encoded Value: 67\n",
            "Loan ID: LP001238, Encoded Value: 68\n",
            "Loan ID: LP001241, Encoded Value: 69\n",
            "Loan ID: LP001243, Encoded Value: 70\n",
            "Loan ID: LP001245, Encoded Value: 71\n",
            "Loan ID: LP001248, Encoded Value: 72\n",
            "Loan ID: LP001250, Encoded Value: 73\n",
            "Loan ID: LP001253, Encoded Value: 74\n",
            "Loan ID: LP001255, Encoded Value: 75\n",
            "Loan ID: LP001256, Encoded Value: 76\n",
            "Loan ID: LP001259, Encoded Value: 77\n",
            "Loan ID: LP001263, Encoded Value: 78\n",
            "Loan ID: LP001264, Encoded Value: 79\n",
            "Loan ID: LP001265, Encoded Value: 80\n",
            "Loan ID: LP001266, Encoded Value: 81\n",
            "Loan ID: LP001267, Encoded Value: 82\n",
            "Loan ID: LP001273, Encoded Value: 83\n",
            "Loan ID: LP001275, Encoded Value: 84\n",
            "Loan ID: LP001279, Encoded Value: 85\n",
            "Loan ID: LP001280, Encoded Value: 86\n",
            "Loan ID: LP001282, Encoded Value: 87\n",
            "Loan ID: LP001289, Encoded Value: 88\n",
            "Loan ID: LP001310, Encoded Value: 89\n",
            "Loan ID: LP001316, Encoded Value: 90\n",
            "Loan ID: LP001318, Encoded Value: 91\n",
            "Loan ID: LP001319, Encoded Value: 92\n",
            "Loan ID: LP001322, Encoded Value: 93\n",
            "Loan ID: LP001325, Encoded Value: 94\n",
            "Loan ID: LP001326, Encoded Value: 95\n",
            "Loan ID: LP001327, Encoded Value: 96\n",
            "Loan ID: LP001333, Encoded Value: 97\n",
            "Loan ID: LP001334, Encoded Value: 98\n",
            "Loan ID: LP001343, Encoded Value: 99\n",
            "Loan ID: LP001345, Encoded Value: 100\n",
            "Loan ID: LP001349, Encoded Value: 101\n",
            "Loan ID: LP001356, Encoded Value: 102\n",
            "Loan ID: LP001367, Encoded Value: 103\n",
            "Loan ID: LP001369, Encoded Value: 104\n",
            "Loan ID: LP001370, Encoded Value: 105\n",
            "Loan ID: LP001379, Encoded Value: 106\n",
            "Loan ID: LP001384, Encoded Value: 107\n",
            "Loan ID: LP001385, Encoded Value: 108\n",
            "Loan ID: LP001387, Encoded Value: 109\n",
            "Loan ID: LP001391, Encoded Value: 110\n",
            "Loan ID: LP001392, Encoded Value: 111\n",
            "Loan ID: LP001398, Encoded Value: 112\n",
            "Loan ID: LP001401, Encoded Value: 113\n",
            "Loan ID: LP001404, Encoded Value: 114\n",
            "Loan ID: LP001405, Encoded Value: 115\n",
            "Loan ID: LP001421, Encoded Value: 116\n",
            "Loan ID: LP001422, Encoded Value: 117\n",
            "Loan ID: LP001430, Encoded Value: 118\n",
            "Loan ID: LP001431, Encoded Value: 119\n",
            "Loan ID: LP001432, Encoded Value: 120\n",
            "Loan ID: LP001439, Encoded Value: 121\n",
            "Loan ID: LP001443, Encoded Value: 122\n",
            "Loan ID: LP001448, Encoded Value: 123\n",
            "Loan ID: LP001449, Encoded Value: 124\n",
            "Loan ID: LP001451, Encoded Value: 125\n",
            "Loan ID: LP001465, Encoded Value: 126\n",
            "Loan ID: LP001469, Encoded Value: 127\n",
            "Loan ID: LP001473, Encoded Value: 128\n",
            "Loan ID: LP001478, Encoded Value: 129\n",
            "Loan ID: LP001482, Encoded Value: 130\n",
            "Loan ID: LP001487, Encoded Value: 131\n",
            "Loan ID: LP001488, Encoded Value: 132\n",
            "Loan ID: LP001489, Encoded Value: 133\n",
            "Loan ID: LP001491, Encoded Value: 134\n",
            "Loan ID: LP001492, Encoded Value: 135\n",
            "Loan ID: LP001493, Encoded Value: 136\n",
            "Loan ID: LP001497, Encoded Value: 137\n",
            "Loan ID: LP001498, Encoded Value: 138\n",
            "Loan ID: LP001504, Encoded Value: 139\n",
            "Loan ID: LP001507, Encoded Value: 140\n",
            "Loan ID: LP001508, Encoded Value: 141\n",
            "Loan ID: LP001514, Encoded Value: 142\n",
            "Loan ID: LP001516, Encoded Value: 143\n",
            "Loan ID: LP001518, Encoded Value: 144\n",
            "Loan ID: LP001519, Encoded Value: 145\n",
            "Loan ID: LP001520, Encoded Value: 146\n",
            "Loan ID: LP001528, Encoded Value: 147\n",
            "Loan ID: LP001529, Encoded Value: 148\n",
            "Loan ID: LP001531, Encoded Value: 149\n",
            "Loan ID: LP001532, Encoded Value: 150\n",
            "Loan ID: LP001535, Encoded Value: 151\n",
            "Loan ID: LP001536, Encoded Value: 152\n",
            "Loan ID: LP001541, Encoded Value: 153\n",
            "Loan ID: LP001543, Encoded Value: 154\n",
            "Loan ID: LP001546, Encoded Value: 155\n",
            "Loan ID: LP001552, Encoded Value: 156\n",
            "Loan ID: LP001560, Encoded Value: 157\n",
            "Loan ID: LP001562, Encoded Value: 158\n",
            "Loan ID: LP001565, Encoded Value: 159\n",
            "Loan ID: LP001570, Encoded Value: 160\n",
            "Loan ID: LP001572, Encoded Value: 161\n",
            "Loan ID: LP001574, Encoded Value: 162\n",
            "Loan ID: LP001577, Encoded Value: 163\n",
            "Loan ID: LP001578, Encoded Value: 164\n",
            "Loan ID: LP001579, Encoded Value: 165\n",
            "Loan ID: LP001580, Encoded Value: 166\n",
            "Loan ID: LP001581, Encoded Value: 167\n",
            "Loan ID: LP001585, Encoded Value: 168\n",
            "Loan ID: LP001586, Encoded Value: 169\n",
            "Loan ID: LP001594, Encoded Value: 170\n",
            "Loan ID: LP001603, Encoded Value: 171\n",
            "Loan ID: LP001606, Encoded Value: 172\n",
            "Loan ID: LP001608, Encoded Value: 173\n",
            "Loan ID: LP001610, Encoded Value: 174\n",
            "Loan ID: LP001616, Encoded Value: 175\n",
            "Loan ID: LP001630, Encoded Value: 176\n",
            "Loan ID: LP001633, Encoded Value: 177\n",
            "Loan ID: LP001634, Encoded Value: 178\n",
            "Loan ID: LP001636, Encoded Value: 179\n",
            "Loan ID: LP001637, Encoded Value: 180\n",
            "Loan ID: LP001639, Encoded Value: 181\n",
            "Loan ID: LP001640, Encoded Value: 182\n",
            "Loan ID: LP001641, Encoded Value: 183\n",
            "Loan ID: LP001643, Encoded Value: 184\n",
            "Loan ID: LP001644, Encoded Value: 185\n",
            "Loan ID: LP001647, Encoded Value: 186\n",
            "Loan ID: LP001653, Encoded Value: 187\n",
            "Loan ID: LP001656, Encoded Value: 188\n",
            "Loan ID: LP001657, Encoded Value: 189\n",
            "Loan ID: LP001658, Encoded Value: 190\n",
            "Loan ID: LP001664, Encoded Value: 191\n",
            "Loan ID: LP001665, Encoded Value: 192\n",
            "Loan ID: LP001666, Encoded Value: 193\n",
            "Loan ID: LP001669, Encoded Value: 194\n",
            "Loan ID: LP001671, Encoded Value: 195\n",
            "Loan ID: LP001673, Encoded Value: 196\n",
            "Loan ID: LP001674, Encoded Value: 197\n",
            "Loan ID: LP001677, Encoded Value: 198\n",
            "Loan ID: LP001682, Encoded Value: 199\n",
            "Loan ID: LP001688, Encoded Value: 200\n",
            "Loan ID: LP001691, Encoded Value: 201\n",
            "Loan ID: LP001692, Encoded Value: 202\n",
            "Loan ID: LP001693, Encoded Value: 203\n",
            "Loan ID: LP001698, Encoded Value: 204\n",
            "Loan ID: LP001699, Encoded Value: 205\n",
            "Loan ID: LP001702, Encoded Value: 206\n",
            "Loan ID: LP001708, Encoded Value: 207\n",
            "Loan ID: LP001711, Encoded Value: 208\n",
            "Loan ID: LP001713, Encoded Value: 209\n",
            "Loan ID: LP001715, Encoded Value: 210\n",
            "Loan ID: LP001716, Encoded Value: 211\n",
            "Loan ID: LP001720, Encoded Value: 212\n",
            "Loan ID: LP001722, Encoded Value: 213\n",
            "Loan ID: LP001726, Encoded Value: 214\n",
            "Loan ID: LP001732, Encoded Value: 215\n",
            "Loan ID: LP001734, Encoded Value: 216\n",
            "Loan ID: LP001736, Encoded Value: 217\n",
            "Loan ID: LP001743, Encoded Value: 218\n",
            "Loan ID: LP001744, Encoded Value: 219\n",
            "Loan ID: LP001749, Encoded Value: 220\n",
            "Loan ID: LP001750, Encoded Value: 221\n",
            "Loan ID: LP001751, Encoded Value: 222\n",
            "Loan ID: LP001758, Encoded Value: 223\n",
            "Loan ID: LP001761, Encoded Value: 224\n",
            "Loan ID: LP001765, Encoded Value: 225\n",
            "Loan ID: LP001768, Encoded Value: 226\n",
            "Loan ID: LP001770, Encoded Value: 227\n",
            "Loan ID: LP001776, Encoded Value: 228\n",
            "Loan ID: LP001778, Encoded Value: 229\n",
            "Loan ID: LP001784, Encoded Value: 230\n",
            "Loan ID: LP001786, Encoded Value: 231\n",
            "Loan ID: LP001788, Encoded Value: 232\n",
            "Loan ID: LP001790, Encoded Value: 233\n",
            "Loan ID: LP001792, Encoded Value: 234\n",
            "Loan ID: LP001798, Encoded Value: 235\n",
            "Loan ID: LP001800, Encoded Value: 236\n",
            "Loan ID: LP001806, Encoded Value: 237\n",
            "Loan ID: LP001807, Encoded Value: 238\n",
            "Loan ID: LP001811, Encoded Value: 239\n",
            "Loan ID: LP001813, Encoded Value: 240\n",
            "Loan ID: LP001814, Encoded Value: 241\n",
            "Loan ID: LP001819, Encoded Value: 242\n",
            "Loan ID: LP001824, Encoded Value: 243\n",
            "Loan ID: LP001825, Encoded Value: 244\n",
            "Loan ID: LP001835, Encoded Value: 245\n",
            "Loan ID: LP001836, Encoded Value: 246\n",
            "Loan ID: LP001841, Encoded Value: 247\n",
            "Loan ID: LP001843, Encoded Value: 248\n",
            "Loan ID: LP001844, Encoded Value: 249\n",
            "Loan ID: LP001846, Encoded Value: 250\n",
            "Loan ID: LP001849, Encoded Value: 251\n",
            "Loan ID: LP001854, Encoded Value: 252\n",
            "Loan ID: LP001859, Encoded Value: 253\n",
            "Loan ID: LP001864, Encoded Value: 254\n",
            "Loan ID: LP001865, Encoded Value: 255\n",
            "Loan ID: LP001868, Encoded Value: 256\n",
            "Loan ID: LP001870, Encoded Value: 257\n",
            "Loan ID: LP001871, Encoded Value: 258\n",
            "Loan ID: LP001872, Encoded Value: 259\n",
            "Loan ID: LP001875, Encoded Value: 260\n",
            "Loan ID: LP001877, Encoded Value: 261\n",
            "Loan ID: LP001882, Encoded Value: 262\n",
            "Loan ID: LP001883, Encoded Value: 263\n",
            "Loan ID: LP001884, Encoded Value: 264\n",
            "Loan ID: LP001888, Encoded Value: 265\n",
            "Loan ID: LP001891, Encoded Value: 266\n",
            "Loan ID: LP001892, Encoded Value: 267\n",
            "Loan ID: LP001894, Encoded Value: 268\n",
            "Loan ID: LP001896, Encoded Value: 269\n",
            "Loan ID: LP001900, Encoded Value: 270\n",
            "Loan ID: LP001903, Encoded Value: 271\n",
            "Loan ID: LP001904, Encoded Value: 272\n",
            "Loan ID: LP001907, Encoded Value: 273\n",
            "Loan ID: LP001908, Encoded Value: 274\n",
            "Loan ID: LP001910, Encoded Value: 275\n",
            "Loan ID: LP001914, Encoded Value: 276\n",
            "Loan ID: LP001915, Encoded Value: 277\n",
            "Loan ID: LP001917, Encoded Value: 278\n",
            "Loan ID: LP001922, Encoded Value: 279\n",
            "Loan ID: LP001924, Encoded Value: 280\n",
            "Loan ID: LP001925, Encoded Value: 281\n",
            "Loan ID: LP001926, Encoded Value: 282\n",
            "Loan ID: LP001931, Encoded Value: 283\n",
            "Loan ID: LP001935, Encoded Value: 284\n",
            "Loan ID: LP001936, Encoded Value: 285\n",
            "Loan ID: LP001938, Encoded Value: 286\n",
            "Loan ID: LP001940, Encoded Value: 287\n",
            "Loan ID: LP001947, Encoded Value: 288\n",
            "Loan ID: LP001949, Encoded Value: 289\n",
            "Loan ID: LP001953, Encoded Value: 290\n",
            "Loan ID: LP001954, Encoded Value: 291\n",
            "Loan ID: LP001955, Encoded Value: 292\n",
            "Loan ID: LP001963, Encoded Value: 293\n",
            "Loan ID: LP001964, Encoded Value: 294\n",
            "Loan ID: LP001974, Encoded Value: 295\n",
            "Loan ID: LP001977, Encoded Value: 296\n",
            "Loan ID: LP001978, Encoded Value: 297\n",
            "Loan ID: LP001990, Encoded Value: 298\n",
            "Loan ID: LP001993, Encoded Value: 299\n",
            "Loan ID: LP001994, Encoded Value: 300\n",
            "Loan ID: LP001996, Encoded Value: 301\n",
            "Loan ID: LP001998, Encoded Value: 302\n",
            "Loan ID: LP002002, Encoded Value: 303\n",
            "Loan ID: LP002004, Encoded Value: 304\n",
            "Loan ID: LP002006, Encoded Value: 305\n",
            "Loan ID: LP002008, Encoded Value: 306\n",
            "Loan ID: LP002024, Encoded Value: 307\n",
            "Loan ID: LP002031, Encoded Value: 308\n",
            "Loan ID: LP002035, Encoded Value: 309\n",
            "Loan ID: LP002036, Encoded Value: 310\n",
            "Loan ID: LP002043, Encoded Value: 311\n",
            "Loan ID: LP002050, Encoded Value: 312\n",
            "Loan ID: LP002051, Encoded Value: 313\n",
            "Loan ID: LP002053, Encoded Value: 314\n",
            "Loan ID: LP002054, Encoded Value: 315\n",
            "Loan ID: LP002055, Encoded Value: 316\n",
            "Loan ID: LP002065, Encoded Value: 317\n",
            "Loan ID: LP002067, Encoded Value: 318\n",
            "Loan ID: LP002068, Encoded Value: 319\n",
            "Loan ID: LP002082, Encoded Value: 320\n",
            "Loan ID: LP002086, Encoded Value: 321\n",
            "Loan ID: LP002087, Encoded Value: 322\n",
            "Loan ID: LP002097, Encoded Value: 323\n",
            "Loan ID: LP002098, Encoded Value: 324\n",
            "Loan ID: LP002101, Encoded Value: 325\n",
            "Loan ID: LP002103, Encoded Value: 326\n",
            "Loan ID: LP002110, Encoded Value: 327\n",
            "Loan ID: LP002112, Encoded Value: 328\n",
            "Loan ID: LP002113, Encoded Value: 329\n",
            "Loan ID: LP002114, Encoded Value: 330\n",
            "Loan ID: LP002115, Encoded Value: 331\n",
            "Loan ID: LP002116, Encoded Value: 332\n",
            "Loan ID: LP002119, Encoded Value: 333\n",
            "Loan ID: LP002126, Encoded Value: 334\n",
            "Loan ID: LP002128, Encoded Value: 335\n",
            "Loan ID: LP002129, Encoded Value: 336\n",
            "Loan ID: LP002131, Encoded Value: 337\n",
            "Loan ID: LP002137, Encoded Value: 338\n",
            "Loan ID: LP002138, Encoded Value: 339\n",
            "Loan ID: LP002139, Encoded Value: 340\n",
            "Loan ID: LP002140, Encoded Value: 341\n",
            "Loan ID: LP002141, Encoded Value: 342\n",
            "Loan ID: LP002142, Encoded Value: 343\n",
            "Loan ID: LP002143, Encoded Value: 344\n",
            "Loan ID: LP002149, Encoded Value: 345\n",
            "Loan ID: LP002151, Encoded Value: 346\n",
            "Loan ID: LP002158, Encoded Value: 347\n",
            "Loan ID: LP002160, Encoded Value: 348\n",
            "Loan ID: LP002161, Encoded Value: 349\n",
            "Loan ID: LP002170, Encoded Value: 350\n",
            "Loan ID: LP002175, Encoded Value: 351\n",
            "Loan ID: LP002178, Encoded Value: 352\n",
            "Loan ID: LP002180, Encoded Value: 353\n",
            "Loan ID: LP002181, Encoded Value: 354\n",
            "Loan ID: LP002187, Encoded Value: 355\n",
            "Loan ID: LP002188, Encoded Value: 356\n",
            "Loan ID: LP002190, Encoded Value: 357\n",
            "Loan ID: LP002191, Encoded Value: 358\n",
            "Loan ID: LP002194, Encoded Value: 359\n",
            "Loan ID: LP002197, Encoded Value: 360\n",
            "Loan ID: LP002201, Encoded Value: 361\n",
            "Loan ID: LP002205, Encoded Value: 362\n",
            "Loan ID: LP002209, Encoded Value: 363\n",
            "Loan ID: LP002211, Encoded Value: 364\n",
            "Loan ID: LP002219, Encoded Value: 365\n",
            "Loan ID: LP002223, Encoded Value: 366\n",
            "Loan ID: LP002224, Encoded Value: 367\n",
            "Loan ID: LP002225, Encoded Value: 368\n",
            "Loan ID: LP002226, Encoded Value: 369\n",
            "Loan ID: LP002229, Encoded Value: 370\n",
            "Loan ID: LP002231, Encoded Value: 371\n",
            "Loan ID: LP002234, Encoded Value: 372\n",
            "Loan ID: LP002236, Encoded Value: 373\n",
            "Loan ID: LP002237, Encoded Value: 374\n",
            "Loan ID: LP002239, Encoded Value: 375\n",
            "Loan ID: LP002243, Encoded Value: 376\n",
            "Loan ID: LP002244, Encoded Value: 377\n",
            "Loan ID: LP002250, Encoded Value: 378\n",
            "Loan ID: LP002255, Encoded Value: 379\n",
            "Loan ID: LP002262, Encoded Value: 380\n",
            "Loan ID: LP002263, Encoded Value: 381\n",
            "Loan ID: LP002265, Encoded Value: 382\n",
            "Loan ID: LP002266, Encoded Value: 383\n",
            "Loan ID: LP002272, Encoded Value: 384\n",
            "Loan ID: LP002277, Encoded Value: 385\n",
            "Loan ID: LP002281, Encoded Value: 386\n",
            "Loan ID: LP002284, Encoded Value: 387\n",
            "Loan ID: LP002287, Encoded Value: 388\n",
            "Loan ID: LP002288, Encoded Value: 389\n",
            "Loan ID: LP002296, Encoded Value: 390\n",
            "Loan ID: LP002297, Encoded Value: 391\n",
            "Loan ID: LP002300, Encoded Value: 392\n",
            "Loan ID: LP002301, Encoded Value: 393\n",
            "Loan ID: LP002305, Encoded Value: 394\n",
            "Loan ID: LP002308, Encoded Value: 395\n",
            "Loan ID: LP002314, Encoded Value: 396\n",
            "Loan ID: LP002315, Encoded Value: 397\n",
            "Loan ID: LP002317, Encoded Value: 398\n",
            "Loan ID: LP002318, Encoded Value: 399\n",
            "Loan ID: LP002319, Encoded Value: 400\n",
            "Loan ID: LP002328, Encoded Value: 401\n",
            "Loan ID: LP002332, Encoded Value: 402\n",
            "Loan ID: LP002335, Encoded Value: 403\n",
            "Loan ID: LP002337, Encoded Value: 404\n",
            "Loan ID: LP002341, Encoded Value: 405\n",
            "Loan ID: LP002342, Encoded Value: 406\n",
            "Loan ID: LP002345, Encoded Value: 407\n",
            "Loan ID: LP002347, Encoded Value: 408\n",
            "Loan ID: LP002348, Encoded Value: 409\n",
            "Loan ID: LP002357, Encoded Value: 410\n",
            "Loan ID: LP002361, Encoded Value: 411\n",
            "Loan ID: LP002362, Encoded Value: 412\n",
            "Loan ID: LP002364, Encoded Value: 413\n",
            "Loan ID: LP002366, Encoded Value: 414\n",
            "Loan ID: LP002367, Encoded Value: 415\n",
            "Loan ID: LP002368, Encoded Value: 416\n",
            "Loan ID: LP002369, Encoded Value: 417\n",
            "Loan ID: LP002370, Encoded Value: 418\n",
            "Loan ID: LP002377, Encoded Value: 419\n",
            "Loan ID: LP002379, Encoded Value: 420\n",
            "Loan ID: LP002386, Encoded Value: 421\n",
            "Loan ID: LP002387, Encoded Value: 422\n",
            "Loan ID: LP002390, Encoded Value: 423\n",
            "Loan ID: LP002398, Encoded Value: 424\n",
            "Loan ID: LP002401, Encoded Value: 425\n",
            "Loan ID: LP002403, Encoded Value: 426\n",
            "Loan ID: LP002407, Encoded Value: 427\n",
            "Loan ID: LP002408, Encoded Value: 428\n",
            "Loan ID: LP002409, Encoded Value: 429\n",
            "Loan ID: LP002418, Encoded Value: 430\n",
            "Loan ID: LP002422, Encoded Value: 431\n",
            "Loan ID: LP002424, Encoded Value: 432\n",
            "Loan ID: LP002429, Encoded Value: 433\n",
            "Loan ID: LP002434, Encoded Value: 434\n",
            "Loan ID: LP002435, Encoded Value: 435\n",
            "Loan ID: LP002443, Encoded Value: 436\n",
            "Loan ID: LP002444, Encoded Value: 437\n",
            "Loan ID: LP002446, Encoded Value: 438\n",
            "Loan ID: LP002447, Encoded Value: 439\n",
            "Loan ID: LP002448, Encoded Value: 440\n",
            "Loan ID: LP002449, Encoded Value: 441\n",
            "Loan ID: LP002453, Encoded Value: 442\n",
            "Loan ID: LP002455, Encoded Value: 443\n",
            "Loan ID: LP002459, Encoded Value: 444\n",
            "Loan ID: LP002467, Encoded Value: 445\n",
            "Loan ID: LP002472, Encoded Value: 446\n",
            "Loan ID: LP002473, Encoded Value: 447\n",
            "Loan ID: LP002478, Encoded Value: 448\n",
            "Loan ID: LP002484, Encoded Value: 449\n",
            "Loan ID: LP002487, Encoded Value: 450\n",
            "Loan ID: LP002489, Encoded Value: 451\n",
            "Loan ID: LP002493, Encoded Value: 452\n",
            "Loan ID: LP002494, Encoded Value: 453\n",
            "Loan ID: LP002500, Encoded Value: 454\n",
            "Loan ID: LP002501, Encoded Value: 455\n",
            "Loan ID: LP002502, Encoded Value: 456\n",
            "Loan ID: LP002505, Encoded Value: 457\n",
            "Loan ID: LP002515, Encoded Value: 458\n",
            "Loan ID: LP002517, Encoded Value: 459\n",
            "Loan ID: LP002519, Encoded Value: 460\n",
            "Loan ID: LP002522, Encoded Value: 461\n",
            "Loan ID: LP002524, Encoded Value: 462\n",
            "Loan ID: LP002527, Encoded Value: 463\n",
            "Loan ID: LP002529, Encoded Value: 464\n",
            "Loan ID: LP002530, Encoded Value: 465\n",
            "Loan ID: LP002531, Encoded Value: 466\n",
            "Loan ID: LP002533, Encoded Value: 467\n",
            "Loan ID: LP002534, Encoded Value: 468\n",
            "Loan ID: LP002536, Encoded Value: 469\n",
            "Loan ID: LP002537, Encoded Value: 470\n",
            "Loan ID: LP002541, Encoded Value: 471\n",
            "Loan ID: LP002543, Encoded Value: 472\n",
            "Loan ID: LP002544, Encoded Value: 473\n",
            "Loan ID: LP002545, Encoded Value: 474\n",
            "Loan ID: LP002547, Encoded Value: 475\n",
            "Loan ID: LP002555, Encoded Value: 476\n",
            "Loan ID: LP002556, Encoded Value: 477\n",
            "Loan ID: LP002560, Encoded Value: 478\n",
            "Loan ID: LP002562, Encoded Value: 479\n",
            "Loan ID: LP002571, Encoded Value: 480\n",
            "Loan ID: LP002582, Encoded Value: 481\n",
            "Loan ID: LP002585, Encoded Value: 482\n",
            "Loan ID: LP002586, Encoded Value: 483\n",
            "Loan ID: LP002587, Encoded Value: 484\n",
            "Loan ID: LP002588, Encoded Value: 485\n",
            "Loan ID: LP002600, Encoded Value: 486\n",
            "Loan ID: LP002602, Encoded Value: 487\n",
            "Loan ID: LP002603, Encoded Value: 488\n",
            "Loan ID: LP002606, Encoded Value: 489\n",
            "Loan ID: LP002615, Encoded Value: 490\n",
            "Loan ID: LP002618, Encoded Value: 491\n",
            "Loan ID: LP002619, Encoded Value: 492\n",
            "Loan ID: LP002622, Encoded Value: 493\n",
            "Loan ID: LP002624, Encoded Value: 494\n",
            "Loan ID: LP002625, Encoded Value: 495\n",
            "Loan ID: LP002626, Encoded Value: 496\n",
            "Loan ID: LP002634, Encoded Value: 497\n",
            "Loan ID: LP002637, Encoded Value: 498\n",
            "Loan ID: LP002640, Encoded Value: 499\n",
            "Loan ID: LP002643, Encoded Value: 500\n",
            "Loan ID: LP002648, Encoded Value: 501\n",
            "Loan ID: LP002652, Encoded Value: 502\n",
            "Loan ID: LP002659, Encoded Value: 503\n",
            "Loan ID: LP002670, Encoded Value: 504\n",
            "Loan ID: LP002683, Encoded Value: 505\n",
            "Loan ID: LP002684, Encoded Value: 506\n",
            "Loan ID: LP002689, Encoded Value: 507\n",
            "Loan ID: LP002690, Encoded Value: 508\n",
            "Loan ID: LP002692, Encoded Value: 509\n",
            "Loan ID: LP002693, Encoded Value: 510\n",
            "Loan ID: LP002697, Encoded Value: 511\n",
            "Loan ID: LP002699, Encoded Value: 512\n",
            "Loan ID: LP002705, Encoded Value: 513\n",
            "Loan ID: LP002706, Encoded Value: 514\n",
            "Loan ID: LP002714, Encoded Value: 515\n",
            "Loan ID: LP002716, Encoded Value: 516\n",
            "Loan ID: LP002717, Encoded Value: 517\n",
            "Loan ID: LP002720, Encoded Value: 518\n",
            "Loan ID: LP002723, Encoded Value: 519\n",
            "Loan ID: LP002729, Encoded Value: 520\n",
            "Loan ID: LP002731, Encoded Value: 521\n",
            "Loan ID: LP002732, Encoded Value: 522\n",
            "Loan ID: LP002734, Encoded Value: 523\n",
            "Loan ID: LP002738, Encoded Value: 524\n",
            "Loan ID: LP002739, Encoded Value: 525\n",
            "Loan ID: LP002740, Encoded Value: 526\n",
            "Loan ID: LP002741, Encoded Value: 527\n",
            "Loan ID: LP002743, Encoded Value: 528\n",
            "Loan ID: LP002753, Encoded Value: 529\n",
            "Loan ID: LP002755, Encoded Value: 530\n",
            "Loan ID: LP002757, Encoded Value: 531\n",
            "Loan ID: LP002767, Encoded Value: 532\n",
            "Loan ID: LP002768, Encoded Value: 533\n",
            "Loan ID: LP002772, Encoded Value: 534\n",
            "Loan ID: LP002776, Encoded Value: 535\n",
            "Loan ID: LP002777, Encoded Value: 536\n",
            "Loan ID: LP002778, Encoded Value: 537\n",
            "Loan ID: LP002784, Encoded Value: 538\n",
            "Loan ID: LP002785, Encoded Value: 539\n",
            "Loan ID: LP002788, Encoded Value: 540\n",
            "Loan ID: LP002789, Encoded Value: 541\n",
            "Loan ID: LP002792, Encoded Value: 542\n",
            "Loan ID: LP002794, Encoded Value: 543\n",
            "Loan ID: LP002795, Encoded Value: 544\n",
            "Loan ID: LP002798, Encoded Value: 545\n",
            "Loan ID: LP002804, Encoded Value: 546\n",
            "Loan ID: LP002807, Encoded Value: 547\n",
            "Loan ID: LP002813, Encoded Value: 548\n",
            "Loan ID: LP002820, Encoded Value: 549\n",
            "Loan ID: LP002821, Encoded Value: 550\n",
            "Loan ID: LP002832, Encoded Value: 551\n",
            "Loan ID: LP002833, Encoded Value: 552\n",
            "Loan ID: LP002836, Encoded Value: 553\n",
            "Loan ID: LP002837, Encoded Value: 554\n",
            "Loan ID: LP002840, Encoded Value: 555\n",
            "Loan ID: LP002841, Encoded Value: 556\n",
            "Loan ID: LP002842, Encoded Value: 557\n",
            "Loan ID: LP002855, Encoded Value: 558\n",
            "Loan ID: LP002862, Encoded Value: 559\n",
            "Loan ID: LP002863, Encoded Value: 560\n",
            "Loan ID: LP002868, Encoded Value: 561\n",
            "Loan ID: LP002872, Encoded Value: 562\n",
            "Loan ID: LP002874, Encoded Value: 563\n",
            "Loan ID: LP002877, Encoded Value: 564\n",
            "Loan ID: LP002888, Encoded Value: 565\n",
            "Loan ID: LP002892, Encoded Value: 566\n",
            "Loan ID: LP002893, Encoded Value: 567\n",
            "Loan ID: LP002894, Encoded Value: 568\n",
            "Loan ID: LP002898, Encoded Value: 569\n",
            "Loan ID: LP002911, Encoded Value: 570\n",
            "Loan ID: LP002912, Encoded Value: 571\n",
            "Loan ID: LP002916, Encoded Value: 572\n",
            "Loan ID: LP002917, Encoded Value: 573\n",
            "Loan ID: LP002925, Encoded Value: 574\n",
            "Loan ID: LP002926, Encoded Value: 575\n",
            "Loan ID: LP002928, Encoded Value: 576\n",
            "Loan ID: LP002931, Encoded Value: 577\n",
            "Loan ID: LP002933, Encoded Value: 578\n",
            "Loan ID: LP002936, Encoded Value: 579\n",
            "Loan ID: LP002938, Encoded Value: 580\n",
            "Loan ID: LP002940, Encoded Value: 581\n",
            "Loan ID: LP002941, Encoded Value: 582\n",
            "Loan ID: LP002945, Encoded Value: 583\n",
            "Loan ID: LP002948, Encoded Value: 584\n",
            "Loan ID: LP002949, Encoded Value: 585\n",
            "Loan ID: LP002950, Encoded Value: 586\n",
            "Loan ID: LP002953, Encoded Value: 587\n",
            "Loan ID: LP002958, Encoded Value: 588\n",
            "Loan ID: LP002959, Encoded Value: 589\n",
            "Loan ID: LP002960, Encoded Value: 590\n",
            "Loan ID: LP002961, Encoded Value: 591\n",
            "Loan ID: LP002964, Encoded Value: 592\n",
            "Loan ID: LP002974, Encoded Value: 593\n",
            "Loan ID: LP002978, Encoded Value: 594\n",
            "Loan ID: LP002979, Encoded Value: 595\n",
            "Loan ID: LP002983, Encoded Value: 596\n",
            "Loan ID: LP002984, Encoded Value: 597\n",
            "Loan ID: LP002990, Encoded Value: 598\n"
          ]
        }
      ]
    },
    {
      "cell_type": "code",
      "source": [
        "data['Loan_ID'] = data['Loan_ID'].map( dict(zip(array, encoded_array)))"
      ],
      "metadata": {
        "id": "p45FsBPOjNmV"
      },
      "execution_count": null,
      "outputs": []
    },
    {
      "cell_type": "code",
      "source": [
        "data.dtypes"
      ],
      "metadata": {
        "colab": {
          "base_uri": "https://localhost:8080/"
        },
        "id": "tlFZ9Ig-jnmR",
        "outputId": "f1d73948-4e25-4070-dcaf-762557670f66"
      },
      "execution_count": null,
      "outputs": [
        {
          "output_type": "execute_result",
          "data": {
            "text/plain": [
              "Loan_ID                int64\n",
              "Gender                 int64\n",
              "Married              float64\n",
              "Dependents           float64\n",
              "Education              int64\n",
              "Self_Employed          int64\n",
              "ApplicantIncome        int64\n",
              "CoapplicantIncome    float64\n",
              "LoanAmount           float64\n",
              "Loan_Amount_Term     float64\n",
              "Credit_History       float64\n",
              "Property_Area          int64\n",
              "Loan_Status            int64\n",
              "dtype: object"
            ]
          },
          "metadata": {},
          "execution_count": 100
        }
      ]
    },
    {
      "cell_type": "code",
      "source": [
        "data.head()"
      ],
      "metadata": {
        "colab": {
          "base_uri": "https://localhost:8080/",
          "height": 226
        },
        "id": "rx4VW1oFjpR2",
        "outputId": "f4abdf97-1a7a-4351-d1b0-43d4ced96bb4"
      },
      "execution_count": null,
      "outputs": [
        {
          "output_type": "execute_result",
          "data": {
            "text/plain": [
              "   Loan_ID  Gender  Married  Dependents  Education  Self_Employed  \\\n",
              "0        0       0      1.0         0.0          0              0   \n",
              "1        1       0      NaN         1.0          0              0   \n",
              "2        2       0      NaN         0.0          0              1   \n",
              "3        3       0      NaN         0.0          1              0   \n",
              "4        4       0      1.0         0.0          0              0   \n",
              "\n",
              "   ApplicantIncome  CoapplicantIncome  LoanAmount  Loan_Amount_Term  \\\n",
              "0             5849                0.0       128.0             360.0   \n",
              "1             4583             1508.0       128.0             360.0   \n",
              "2             3000                0.0        66.0             360.0   \n",
              "3             2583             2358.0       120.0             360.0   \n",
              "4             6000                0.0       141.0             360.0   \n",
              "\n",
              "   Credit_History  Property_Area  Loan_Status  \n",
              "0             1.0              0            0  \n",
              "1             1.0              1            1  \n",
              "2             1.0              0            0  \n",
              "3             1.0              0            0  \n",
              "4             1.0              0            0  "
            ],
            "text/html": [
              "\n",
              "  <div id=\"df-8013dec6-dfda-4fd1-b217-1a8b103da953\" class=\"colab-df-container\">\n",
              "    <div>\n",
              "<style scoped>\n",
              "    .dataframe tbody tr th:only-of-type {\n",
              "        vertical-align: middle;\n",
              "    }\n",
              "\n",
              "    .dataframe tbody tr th {\n",
              "        vertical-align: top;\n",
              "    }\n",
              "\n",
              "    .dataframe thead th {\n",
              "        text-align: right;\n",
              "    }\n",
              "</style>\n",
              "<table border=\"1\" class=\"dataframe\">\n",
              "  <thead>\n",
              "    <tr style=\"text-align: right;\">\n",
              "      <th></th>\n",
              "      <th>Loan_ID</th>\n",
              "      <th>Gender</th>\n",
              "      <th>Married</th>\n",
              "      <th>Dependents</th>\n",
              "      <th>Education</th>\n",
              "      <th>Self_Employed</th>\n",
              "      <th>ApplicantIncome</th>\n",
              "      <th>CoapplicantIncome</th>\n",
              "      <th>LoanAmount</th>\n",
              "      <th>Loan_Amount_Term</th>\n",
              "      <th>Credit_History</th>\n",
              "      <th>Property_Area</th>\n",
              "      <th>Loan_Status</th>\n",
              "    </tr>\n",
              "  </thead>\n",
              "  <tbody>\n",
              "    <tr>\n",
              "      <th>0</th>\n",
              "      <td>0</td>\n",
              "      <td>0</td>\n",
              "      <td>1.0</td>\n",
              "      <td>0.0</td>\n",
              "      <td>0</td>\n",
              "      <td>0</td>\n",
              "      <td>5849</td>\n",
              "      <td>0.0</td>\n",
              "      <td>128.0</td>\n",
              "      <td>360.0</td>\n",
              "      <td>1.0</td>\n",
              "      <td>0</td>\n",
              "      <td>0</td>\n",
              "    </tr>\n",
              "    <tr>\n",
              "      <th>1</th>\n",
              "      <td>1</td>\n",
              "      <td>0</td>\n",
              "      <td>NaN</td>\n",
              "      <td>1.0</td>\n",
              "      <td>0</td>\n",
              "      <td>0</td>\n",
              "      <td>4583</td>\n",
              "      <td>1508.0</td>\n",
              "      <td>128.0</td>\n",
              "      <td>360.0</td>\n",
              "      <td>1.0</td>\n",
              "      <td>1</td>\n",
              "      <td>1</td>\n",
              "    </tr>\n",
              "    <tr>\n",
              "      <th>2</th>\n",
              "      <td>2</td>\n",
              "      <td>0</td>\n",
              "      <td>NaN</td>\n",
              "      <td>0.0</td>\n",
              "      <td>0</td>\n",
              "      <td>1</td>\n",
              "      <td>3000</td>\n",
              "      <td>0.0</td>\n",
              "      <td>66.0</td>\n",
              "      <td>360.0</td>\n",
              "      <td>1.0</td>\n",
              "      <td>0</td>\n",
              "      <td>0</td>\n",
              "    </tr>\n",
              "    <tr>\n",
              "      <th>3</th>\n",
              "      <td>3</td>\n",
              "      <td>0</td>\n",
              "      <td>NaN</td>\n",
              "      <td>0.0</td>\n",
              "      <td>1</td>\n",
              "      <td>0</td>\n",
              "      <td>2583</td>\n",
              "      <td>2358.0</td>\n",
              "      <td>120.0</td>\n",
              "      <td>360.0</td>\n",
              "      <td>1.0</td>\n",
              "      <td>0</td>\n",
              "      <td>0</td>\n",
              "    </tr>\n",
              "    <tr>\n",
              "      <th>4</th>\n",
              "      <td>4</td>\n",
              "      <td>0</td>\n",
              "      <td>1.0</td>\n",
              "      <td>0.0</td>\n",
              "      <td>0</td>\n",
              "      <td>0</td>\n",
              "      <td>6000</td>\n",
              "      <td>0.0</td>\n",
              "      <td>141.0</td>\n",
              "      <td>360.0</td>\n",
              "      <td>1.0</td>\n",
              "      <td>0</td>\n",
              "      <td>0</td>\n",
              "    </tr>\n",
              "  </tbody>\n",
              "</table>\n",
              "</div>\n",
              "    <div class=\"colab-df-buttons\">\n",
              "\n",
              "  <div class=\"colab-df-container\">\n",
              "    <button class=\"colab-df-convert\" onclick=\"convertToInteractive('df-8013dec6-dfda-4fd1-b217-1a8b103da953')\"\n",
              "            title=\"Convert this dataframe to an interactive table.\"\n",
              "            style=\"display:none;\">\n",
              "\n",
              "  <svg xmlns=\"http://www.w3.org/2000/svg\" height=\"24px\" viewBox=\"0 -960 960 960\">\n",
              "    <path d=\"M120-120v-720h720v720H120Zm60-500h600v-160H180v160Zm220 220h160v-160H400v160Zm0 220h160v-160H400v160ZM180-400h160v-160H180v160Zm440 0h160v-160H620v160ZM180-180h160v-160H180v160Zm440 0h160v-160H620v160Z\"/>\n",
              "  </svg>\n",
              "    </button>\n",
              "\n",
              "  <style>\n",
              "    .colab-df-container {\n",
              "      display:flex;\n",
              "      gap: 12px;\n",
              "    }\n",
              "\n",
              "    .colab-df-convert {\n",
              "      background-color: #E8F0FE;\n",
              "      border: none;\n",
              "      border-radius: 50%;\n",
              "      cursor: pointer;\n",
              "      display: none;\n",
              "      fill: #1967D2;\n",
              "      height: 32px;\n",
              "      padding: 0 0 0 0;\n",
              "      width: 32px;\n",
              "    }\n",
              "\n",
              "    .colab-df-convert:hover {\n",
              "      background-color: #E2EBFA;\n",
              "      box-shadow: 0px 1px 2px rgba(60, 64, 67, 0.3), 0px 1px 3px 1px rgba(60, 64, 67, 0.15);\n",
              "      fill: #174EA6;\n",
              "    }\n",
              "\n",
              "    .colab-df-buttons div {\n",
              "      margin-bottom: 4px;\n",
              "    }\n",
              "\n",
              "    [theme=dark] .colab-df-convert {\n",
              "      background-color: #3B4455;\n",
              "      fill: #D2E3FC;\n",
              "    }\n",
              "\n",
              "    [theme=dark] .colab-df-convert:hover {\n",
              "      background-color: #434B5C;\n",
              "      box-shadow: 0px 1px 3px 1px rgba(0, 0, 0, 0.15);\n",
              "      filter: drop-shadow(0px 1px 2px rgba(0, 0, 0, 0.3));\n",
              "      fill: #FFFFFF;\n",
              "    }\n",
              "  </style>\n",
              "\n",
              "    <script>\n",
              "      const buttonEl =\n",
              "        document.querySelector('#df-8013dec6-dfda-4fd1-b217-1a8b103da953 button.colab-df-convert');\n",
              "      buttonEl.style.display =\n",
              "        google.colab.kernel.accessAllowed ? 'block' : 'none';\n",
              "\n",
              "      async function convertToInteractive(key) {\n",
              "        const element = document.querySelector('#df-8013dec6-dfda-4fd1-b217-1a8b103da953');\n",
              "        const dataTable =\n",
              "          await google.colab.kernel.invokeFunction('convertToInteractive',\n",
              "                                                    [key], {});\n",
              "        if (!dataTable) return;\n",
              "\n",
              "        const docLinkHtml = 'Like what you see? Visit the ' +\n",
              "          '<a target=\"_blank\" href=https://colab.research.google.com/notebooks/data_table.ipynb>data table notebook</a>'\n",
              "          + ' to learn more about interactive tables.';\n",
              "        element.innerHTML = '';\n",
              "        dataTable['output_type'] = 'display_data';\n",
              "        await google.colab.output.renderOutput(dataTable, element);\n",
              "        const docLink = document.createElement('div');\n",
              "        docLink.innerHTML = docLinkHtml;\n",
              "        element.appendChild(docLink);\n",
              "      }\n",
              "    </script>\n",
              "  </div>\n",
              "\n",
              "\n",
              "<div id=\"df-711a81e9-a595-4062-9596-a0080e390e9b\">\n",
              "  <button class=\"colab-df-quickchart\" onclick=\"quickchart('df-711a81e9-a595-4062-9596-a0080e390e9b')\"\n",
              "            title=\"Suggest charts\"\n",
              "            style=\"display:none;\">\n",
              "\n",
              "<svg xmlns=\"http://www.w3.org/2000/svg\" height=\"24px\"viewBox=\"0 0 24 24\"\n",
              "     width=\"24px\">\n",
              "    <g>\n",
              "        <path d=\"M19 3H5c-1.1 0-2 .9-2 2v14c0 1.1.9 2 2 2h14c1.1 0 2-.9 2-2V5c0-1.1-.9-2-2-2zM9 17H7v-7h2v7zm4 0h-2V7h2v10zm4 0h-2v-4h2v4z\"/>\n",
              "    </g>\n",
              "</svg>\n",
              "  </button>\n",
              "\n",
              "<style>\n",
              "  .colab-df-quickchart {\n",
              "      --bg-color: #E8F0FE;\n",
              "      --fill-color: #1967D2;\n",
              "      --hover-bg-color: #E2EBFA;\n",
              "      --hover-fill-color: #174EA6;\n",
              "      --disabled-fill-color: #AAA;\n",
              "      --disabled-bg-color: #DDD;\n",
              "  }\n",
              "\n",
              "  [theme=dark] .colab-df-quickchart {\n",
              "      --bg-color: #3B4455;\n",
              "      --fill-color: #D2E3FC;\n",
              "      --hover-bg-color: #434B5C;\n",
              "      --hover-fill-color: #FFFFFF;\n",
              "      --disabled-bg-color: #3B4455;\n",
              "      --disabled-fill-color: #666;\n",
              "  }\n",
              "\n",
              "  .colab-df-quickchart {\n",
              "    background-color: var(--bg-color);\n",
              "    border: none;\n",
              "    border-radius: 50%;\n",
              "    cursor: pointer;\n",
              "    display: none;\n",
              "    fill: var(--fill-color);\n",
              "    height: 32px;\n",
              "    padding: 0;\n",
              "    width: 32px;\n",
              "  }\n",
              "\n",
              "  .colab-df-quickchart:hover {\n",
              "    background-color: var(--hover-bg-color);\n",
              "    box-shadow: 0 1px 2px rgba(60, 64, 67, 0.3), 0 1px 3px 1px rgba(60, 64, 67, 0.15);\n",
              "    fill: var(--button-hover-fill-color);\n",
              "  }\n",
              "\n",
              "  .colab-df-quickchart-complete:disabled,\n",
              "  .colab-df-quickchart-complete:disabled:hover {\n",
              "    background-color: var(--disabled-bg-color);\n",
              "    fill: var(--disabled-fill-color);\n",
              "    box-shadow: none;\n",
              "  }\n",
              "\n",
              "  .colab-df-spinner {\n",
              "    border: 2px solid var(--fill-color);\n",
              "    border-color: transparent;\n",
              "    border-bottom-color: var(--fill-color);\n",
              "    animation:\n",
              "      spin 1s steps(1) infinite;\n",
              "  }\n",
              "\n",
              "  @keyframes spin {\n",
              "    0% {\n",
              "      border-color: transparent;\n",
              "      border-bottom-color: var(--fill-color);\n",
              "      border-left-color: var(--fill-color);\n",
              "    }\n",
              "    20% {\n",
              "      border-color: transparent;\n",
              "      border-left-color: var(--fill-color);\n",
              "      border-top-color: var(--fill-color);\n",
              "    }\n",
              "    30% {\n",
              "      border-color: transparent;\n",
              "      border-left-color: var(--fill-color);\n",
              "      border-top-color: var(--fill-color);\n",
              "      border-right-color: var(--fill-color);\n",
              "    }\n",
              "    40% {\n",
              "      border-color: transparent;\n",
              "      border-right-color: var(--fill-color);\n",
              "      border-top-color: var(--fill-color);\n",
              "    }\n",
              "    60% {\n",
              "      border-color: transparent;\n",
              "      border-right-color: var(--fill-color);\n",
              "    }\n",
              "    80% {\n",
              "      border-color: transparent;\n",
              "      border-right-color: var(--fill-color);\n",
              "      border-bottom-color: var(--fill-color);\n",
              "    }\n",
              "    90% {\n",
              "      border-color: transparent;\n",
              "      border-bottom-color: var(--fill-color);\n",
              "    }\n",
              "  }\n",
              "</style>\n",
              "\n",
              "  <script>\n",
              "    async function quickchart(key) {\n",
              "      const quickchartButtonEl =\n",
              "        document.querySelector('#' + key + ' button');\n",
              "      quickchartButtonEl.disabled = true;  // To prevent multiple clicks.\n",
              "      quickchartButtonEl.classList.add('colab-df-spinner');\n",
              "      try {\n",
              "        const charts = await google.colab.kernel.invokeFunction(\n",
              "            'suggestCharts', [key], {});\n",
              "      } catch (error) {\n",
              "        console.error('Error during call to suggestCharts:', error);\n",
              "      }\n",
              "      quickchartButtonEl.classList.remove('colab-df-spinner');\n",
              "      quickchartButtonEl.classList.add('colab-df-quickchart-complete');\n",
              "    }\n",
              "    (() => {\n",
              "      let quickchartButtonEl =\n",
              "        document.querySelector('#df-711a81e9-a595-4062-9596-a0080e390e9b button');\n",
              "      quickchartButtonEl.style.display =\n",
              "        google.colab.kernel.accessAllowed ? 'block' : 'none';\n",
              "    })();\n",
              "  </script>\n",
              "</div>\n",
              "\n",
              "    </div>\n",
              "  </div>\n"
            ],
            "application/vnd.google.colaboratory.intrinsic+json": {
              "type": "dataframe",
              "variable_name": "data",
              "summary": "{\n  \"name\": \"data\",\n  \"rows\": 599,\n  \"fields\": [\n    {\n      \"column\": \"Loan_ID\",\n      \"properties\": {\n        \"dtype\": \"number\",\n        \"std\": 173,\n        \"min\": 0,\n        \"max\": 598,\n        \"num_unique_values\": 599,\n        \"samples\": [\n          110,\n          419,\n          564\n        ],\n        \"semantic_type\": \"\",\n        \"description\": \"\"\n      }\n    },\n    {\n      \"column\": \"Gender\",\n      \"properties\": {\n        \"dtype\": \"number\",\n        \"std\": 0,\n        \"min\": 0,\n        \"max\": 1,\n        \"num_unique_values\": 2,\n        \"samples\": [\n          1,\n          0\n        ],\n        \"semantic_type\": \"\",\n        \"description\": \"\"\n      }\n    },\n    {\n      \"column\": \"Married\",\n      \"properties\": {\n        \"dtype\": \"number\",\n        \"std\": 0.0,\n        \"min\": 1.0,\n        \"max\": 1.0,\n        \"num_unique_values\": 1,\n        \"samples\": [\n          1.0\n        ],\n        \"semantic_type\": \"\",\n        \"description\": \"\"\n      }\n    },\n    {\n      \"column\": \"Dependents\",\n      \"properties\": {\n        \"dtype\": \"number\",\n        \"std\": 1.0152163621930164,\n        \"min\": 0.0,\n        \"max\": 3.0,\n        \"num_unique_values\": 4,\n        \"samples\": [\n          1.0\n        ],\n        \"semantic_type\": \"\",\n        \"description\": \"\"\n      }\n    },\n    {\n      \"column\": \"Education\",\n      \"properties\": {\n        \"dtype\": \"number\",\n        \"std\": 0,\n        \"min\": 0,\n        \"max\": 1,\n        \"num_unique_values\": 2,\n        \"samples\": [\n          1\n        ],\n        \"semantic_type\": \"\",\n        \"description\": \"\"\n      }\n    },\n    {\n      \"column\": \"Self_Employed\",\n      \"properties\": {\n        \"dtype\": \"number\",\n        \"std\": 0,\n        \"min\": 0,\n        \"max\": 1,\n        \"num_unique_values\": 2,\n        \"samples\": [\n          1\n        ],\n        \"semantic_type\": \"\",\n        \"description\": \"\"\n      }\n    },\n    {\n      \"column\": \"ApplicantIncome\",\n      \"properties\": {\n        \"dtype\": \"number\",\n        \"std\": 6168,\n        \"min\": 150,\n        \"max\": 81000,\n        \"num_unique_values\": 492,\n        \"samples\": [\n          2958\n        ],\n        \"semantic_type\": \"\",\n        \"description\": \"\"\n      }\n    },\n    {\n      \"column\": \"CoapplicantIncome\",\n      \"properties\": {\n        \"dtype\": \"number\",\n        \"std\": 2953.144574978519,\n        \"min\": 0.0,\n        \"max\": 41667.0,\n        \"num_unique_values\": 284,\n        \"samples\": [\n          1840.0\n        ],\n        \"semantic_type\": \"\",\n        \"description\": \"\"\n      }\n    },\n    {\n      \"column\": \"LoanAmount\",\n      \"properties\": {\n        \"dtype\": \"number\",\n        \"std\": 84.95430291212686,\n        \"min\": 9.0,\n        \"max\": 700.0,\n        \"num_unique_values\": 203,\n        \"samples\": [\n          100.0\n        ],\n        \"semantic_type\": \"\",\n        \"description\": \"\"\n      }\n    },\n    {\n      \"column\": \"Loan_Amount_Term\",\n      \"properties\": {\n        \"dtype\": \"number\",\n        \"std\": 64.2215158818307,\n        \"min\": 12.0,\n        \"max\": 480.0,\n        \"num_unique_values\": 10,\n        \"samples\": [\n          84.0\n        ],\n        \"semantic_type\": \"\",\n        \"description\": \"\"\n      }\n    },\n    {\n      \"column\": \"Credit_History\",\n      \"properties\": {\n        \"dtype\": \"number\",\n        \"std\": 0.34751956052548,\n        \"min\": 0.0,\n        \"max\": 1.0,\n        \"num_unique_values\": 2,\n        \"samples\": [\n          0.0\n        ],\n        \"semantic_type\": \"\",\n        \"description\": \"\"\n      }\n    },\n    {\n      \"column\": \"Property_Area\",\n      \"properties\": {\n        \"dtype\": \"number\",\n        \"std\": 0,\n        \"min\": 0,\n        \"max\": 2,\n        \"num_unique_values\": 3,\n        \"samples\": [\n          0\n        ],\n        \"semantic_type\": \"\",\n        \"description\": \"\"\n      }\n    },\n    {\n      \"column\": \"Loan_Status\",\n      \"properties\": {\n        \"dtype\": \"number\",\n        \"std\": 0,\n        \"min\": 0,\n        \"max\": 1,\n        \"num_unique_values\": 2,\n        \"samples\": [\n          1\n        ],\n        \"semantic_type\": \"\",\n        \"description\": \"\"\n      }\n    }\n  ]\n}"
            }
          },
          "metadata": {},
          "execution_count": 101
        }
      ]
    },
    {
      "cell_type": "code",
      "source": [],
      "metadata": {
        "id": "bZe8a5oLkmi8"
      },
      "execution_count": null,
      "outputs": []
    }
  ]
}